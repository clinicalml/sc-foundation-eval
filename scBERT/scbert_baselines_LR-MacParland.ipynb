{
 "cells": [
  {
   "cell_type": "code",
   "execution_count": 1,
   "metadata": {
    "tags": []
   },
   "outputs": [],
   "source": [
    "# -*- coding: utf-8 -*-\n",
    "import os\n",
    "import gc\n",
    "import argparse\n",
    "import json\n",
    "import random\n",
    "import math\n",
    "import random\n",
    "from functools import reduce\n",
    "import numpy as np\n",
    "import pandas as pd\n",
    "from scipy import sparse\n",
    "from sklearn.model_selection import train_test_split, ShuffleSplit, StratifiedShuffleSplit, StratifiedKFold, cross_validate\n",
    "from sklearn.metrics import accuracy_score, f1_score, confusion_matrix, precision_recall_fscore_support, classification_report\n",
    "import torch\n",
    "from torch import nn\n",
    "from torch.optim import Adam, SGD, AdamW\n",
    "from torch.nn import functional as F\n",
    "from torch.optim.lr_scheduler import StepLR, CosineAnnealingWarmRestarts, CyclicLR\n",
    "from torch.utils.data import DataLoader, Dataset\n",
    "from torch.utils.data.distributed import DistributedSampler\n",
    "from torch.nn.parallel import DistributedDataParallel as DDP\n",
    "import torch.distributed as dist\n",
    "from tqdm import tqdm\n",
    "\n",
    "from performer_pytorch import PerformerLM\n",
    "import scanpy as sc\n",
    "import anndata as ad\n",
    "from utils import *\n",
    "from datetime import datetime\n",
    "from time import time\n",
    "import torch.multiprocessing as mp\n",
    "from torch.nn.modules.utils import consume_prefix_in_state_dict_if_present\n",
    "from torch.utils.tensorboard import SummaryWriter\n",
    "\n",
    "from sklearn.linear_model import LogisticRegression\n",
    "import seaborn as sns"
   ]
  },
  {
   "cell_type": "markdown",
   "metadata": {},
   "source": [
    "### preprocess MacParland data"
   ]
  },
  {
   "cell_type": "code",
   "execution_count": 2,
   "metadata": {},
   "outputs": [],
   "source": [
    "# transpose data from the way it was downloaded from GEO\n",
    "data_df = pd.read_csv('/data/rna_rep_learning/scBERT/macparland/GSE115469_Data.csv', index_col=0)\n",
    "data_df.transpose().to_csv('/data/rna_rep_learning/scBERT/macparland/GSE115469_Data_transposed.csv')"
   ]
  },
  {
   "cell_type": "code",
   "execution_count": 3,
   "metadata": {},
   "outputs": [
    {
     "name": "stderr",
     "output_type": "stream",
     "text": [
      "/opt/conda/rpeyser/envs/rna-pretrain/lib/python3.9/site-packages/anndata/_core/anndata.py:1828: UserWarning: Observation names are not unique. To make them unique, call `.obs_names_make_unique`.\n",
      "  utils.warn_names_duplicates(\"obs\")\n"
     ]
    }
   ],
   "source": [
    "panglao = sc.read_h5ad('/data/rna_rep_learning/scBERT/panglao_10000.h5ad')\n",
    "data = sc.read_csv('/data/rna_rep_learning/scBERT/macparland/GSE115469_Data_transposed.csv')\n",
    "counts = sparse.lil_matrix((data.X.shape[0],panglao.X.shape[1]),dtype=np.float32)"
   ]
  },
  {
   "cell_type": "code",
   "execution_count": 10,
   "metadata": {},
   "outputs": [
    {
     "name": "stdout",
     "output_type": "stream",
     "text": [
      "0.0\n",
      "21.731197\n"
     ]
    }
   ],
   "source": [
    "# data already is log-normalized\n",
    "print(data.X.min())\n",
    "print(data.X.max())"
   ]
  },
  {
   "cell_type": "code",
   "execution_count": 11,
   "metadata": {},
   "outputs": [],
   "source": [
    "ref = panglao.var_names.tolist()\n",
    "obj = data.var_names.tolist()\n",
    "\n",
    "for i in range(len(ref)):\n",
    "    if ref[i] in obj:\n",
    "        loc = obj.index(ref[i])\n",
    "        counts[:,i] = data.X[:,loc]\n",
    "\n",
    "counts = counts.tocsr()\n",
    "new = ad.AnnData(X=counts)\n",
    "new.var_names = ref\n",
    "new.obs_names = data.obs_names\n",
    "new.obs = data.obs\n",
    "new.uns = panglao.uns\n",
    "\n",
    "sc.pp.filter_cells(new, min_genes=200)\n",
    "#this dataset seems to already be log-normalized\n",
    "#sc.pp.normalize_total(new, target_sum=1e4)\n",
    "#sc.pp.log1p(new, base=2)\n",
    "new.write('/data/rna_rep_learning/scBERT/macparland/preprocessed_macparland.h5ad')"
   ]
  },
  {
   "cell_type": "code",
   "execution_count": 25,
   "metadata": {
    "tags": []
   },
   "outputs": [
    {
     "data": {
      "text/plain": [
       "AnnData object with n_obs × n_vars = 8434 × 16906\n",
       "    obs: 'n_genes'\n",
       "    uns: 'log1p'"
      ]
     },
     "execution_count": 25,
     "metadata": {},
     "output_type": "execute_result"
    }
   ],
   "source": [
    "#read preprocessed data\n",
    "macparland_data = sc.read_h5ad(\"/data/rna_rep_learning/scBERT/macparland/preprocessed_macparland.h5ad\")\n",
    "macparland_data"
   ]
  },
  {
   "cell_type": "code",
   "execution_count": 26,
   "metadata": {},
   "outputs": [
    {
     "data": {
      "text/html": [
       "<div>\n",
       "<style scoped>\n",
       "    .dataframe tbody tr th:only-of-type {\n",
       "        vertical-align: middle;\n",
       "    }\n",
       "\n",
       "    .dataframe tbody tr th {\n",
       "        vertical-align: top;\n",
       "    }\n",
       "\n",
       "    .dataframe thead th {\n",
       "        text-align: right;\n",
       "    }\n",
       "</style>\n",
       "<table border=\"1\" class=\"dataframe\">\n",
       "  <thead>\n",
       "    <tr style=\"text-align: right;\">\n",
       "      <th></th>\n",
       "      <th>Sample</th>\n",
       "      <th>Cell#</th>\n",
       "      <th>Cluster#</th>\n",
       "      <th>CellType</th>\n",
       "    </tr>\n",
       "    <tr>\n",
       "      <th>CellName</th>\n",
       "      <th></th>\n",
       "      <th></th>\n",
       "      <th></th>\n",
       "      <th></th>\n",
       "    </tr>\n",
       "  </thead>\n",
       "  <tbody>\n",
       "    <tr>\n",
       "      <th>P1TLH_AAACCTGAGCAGCCTC_1</th>\n",
       "      <td>P1TLH</td>\n",
       "      <td>AAACCTGAGCAGCCTC</td>\n",
       "      <td>12</td>\n",
       "      <td>Central_venous_LSECs</td>\n",
       "    </tr>\n",
       "    <tr>\n",
       "      <th>P1TLH_AAACCTGTCCTCATTA_1</th>\n",
       "      <td>P1TLH</td>\n",
       "      <td>AAACCTGTCCTCATTA</td>\n",
       "      <td>17</td>\n",
       "      <td>Cholangiocytes</td>\n",
       "    </tr>\n",
       "    <tr>\n",
       "      <th>P1TLH_AAACCTGTCTAAGCCA_1</th>\n",
       "      <td>P1TLH</td>\n",
       "      <td>AAACCTGTCTAAGCCA</td>\n",
       "      <td>12</td>\n",
       "      <td>Central_venous_LSECs</td>\n",
       "    </tr>\n",
       "    <tr>\n",
       "      <th>P1TLH_AAACGGGAGTAGGCCA_1</th>\n",
       "      <td>P1TLH</td>\n",
       "      <td>AAACGGGAGTAGGCCA</td>\n",
       "      <td>10</td>\n",
       "      <td>Non-inflammatory_Macrophage</td>\n",
       "    </tr>\n",
       "    <tr>\n",
       "      <th>P1TLH_AAACGGGGTTCGGGCT_1</th>\n",
       "      <td>P1TLH</td>\n",
       "      <td>AAACGGGGTTCGGGCT</td>\n",
       "      <td>2</td>\n",
       "      <td>alpha-beta_T_Cells</td>\n",
       "    </tr>\n",
       "  </tbody>\n",
       "</table>\n",
       "</div>"
      ],
      "text/plain": [
       "                         Sample             Cell#  Cluster#  \\\n",
       "CellName                                                      \n",
       "P1TLH_AAACCTGAGCAGCCTC_1  P1TLH  AAACCTGAGCAGCCTC        12   \n",
       "P1TLH_AAACCTGTCCTCATTA_1  P1TLH  AAACCTGTCCTCATTA        17   \n",
       "P1TLH_AAACCTGTCTAAGCCA_1  P1TLH  AAACCTGTCTAAGCCA        12   \n",
       "P1TLH_AAACGGGAGTAGGCCA_1  P1TLH  AAACGGGAGTAGGCCA        10   \n",
       "P1TLH_AAACGGGGTTCGGGCT_1  P1TLH  AAACGGGGTTCGGGCT         2   \n",
       "\n",
       "                                             CellType  \n",
       "CellName                                               \n",
       "P1TLH_AAACCTGAGCAGCCTC_1         Central_venous_LSECs  \n",
       "P1TLH_AAACCTGTCCTCATTA_1               Cholangiocytes  \n",
       "P1TLH_AAACCTGTCTAAGCCA_1         Central_venous_LSECs  \n",
       "P1TLH_AAACGGGAGTAGGCCA_1  Non-inflammatory_Macrophage  \n",
       "P1TLH_AAACGGGGTTCGGGCT_1           alpha-beta_T_Cells  "
      ]
     },
     "execution_count": 26,
     "metadata": {},
     "output_type": "execute_result"
    }
   ],
   "source": [
    "metadata=pd.read_csv(\"/data/rna_rep_learning/scBERT/macparland/GSE115469_CellClusterType.txt\", sep=\"\\t\", index_col=0)\n",
    "metadata.head()"
   ]
  },
  {
   "cell_type": "code",
   "execution_count": 27,
   "metadata": {},
   "outputs": [],
   "source": [
    "macparland_data.obs = metadata.loc[macparland_data.obs.index,:].merge(macparland_data.obs, right_index=True, left_index=True)"
   ]
  },
  {
   "cell_type": "code",
   "execution_count": 28,
   "metadata": {},
   "outputs": [
    {
     "name": "stderr",
     "output_type": "stream",
     "text": [
      "/tmp/ipykernel_1379135/384907984.py:3: SettingWithCopyWarning: \n",
      "A value is trying to be set on a copy of a slice from a DataFrame\n",
      "\n",
      "See the caveats in the documentation: https://pandas.pydata.org/pandas-docs/stable/user_guide/indexing.html#returning-a-view-versus-a-copy\n",
      "  macparland_data.obs.celltype[macparland_data.obs.celltype.isin(['Hepatocyte_1','Hepatocyte_2','Hepatocyte_3','Hepatocyte_4','Hepatocyte_5','Hepatocyte_6'])] = 'Hepatocyte'\n"
     ]
    }
   ],
   "source": [
    "# new column named cell type where we will merge all hepatocyte clusters into one label\n",
    "macparland_data.obs['celltype'] = macparland_data.obs.CellType.copy()\n",
    "macparland_data.obs.celltype[macparland_data.obs.celltype.isin(['Hepatocyte_1','Hepatocyte_2','Hepatocyte_3','Hepatocyte_4','Hepatocyte_5','Hepatocyte_6'])] = 'Hepatocyte'"
   ]
  },
  {
   "cell_type": "code",
   "execution_count": 29,
   "metadata": {},
   "outputs": [],
   "source": [
    "# keep old labels in column \"unmerged_celltype\"\n",
    "macparland_data.obs.rename(columns={'CellType':'unmerged_celltype'}, inplace=True)"
   ]
  },
  {
   "cell_type": "code",
   "execution_count": 30,
   "metadata": {},
   "outputs": [],
   "source": [
    "macparland_data.write('/data/rna_rep_learning/scBERT/macparland/preprocessed_macparland.h5ad')"
   ]
  },
  {
   "cell_type": "markdown",
   "metadata": {},
   "source": [
    "# Run logistic regression (properly, with \"hepatocyte\" cell type label, instead of multiple clusters)"
   ]
  },
  {
   "cell_type": "code",
   "execution_count": 20,
   "metadata": {},
   "outputs": [
    {
     "data": {
      "text/plain": [
       "Hepatocyte                     3500\n",
       "alpha-beta_T_Cells              961\n",
       "Inflammatory_Macrophage         813\n",
       "Plasma_Cells                    511\n",
       "NK-like_Cells                   488\n",
       "gamma-delta_T_Cells_1           464\n",
       "Non-inflammatory_Macrophage     379\n",
       "Periportal_LSECs                327\n",
       "Central_venous_LSECs            306\n",
       "Portal_endothelial_Cells        211\n",
       "Mature_B_Cells                  129\n",
       "Cholangiocytes                  119\n",
       "gamma-delta_T_Cells_2           105\n",
       "Erythroid_Cells                  84\n",
       "Hepatic_Stellate_Cells           37\n",
       "Name: merged_celltype, dtype: int64"
      ]
     },
     "execution_count": 20,
     "metadata": {},
     "output_type": "execute_result"
    }
   ],
   "source": [
    "macparland_data.obs.celltype.value_counts()"
   ]
  },
  {
   "cell_type": "code",
   "execution_count": 51,
   "metadata": {},
   "outputs": [
    {
     "data": {
      "text/plain": [
       "15"
      ]
     },
     "execution_count": 51,
     "metadata": {},
     "output_type": "execute_result"
    }
   ],
   "source": [
    "len(macparland_data.obs.celltype.value_counts())"
   ]
  },
  {
   "cell_type": "code",
   "execution_count": 21,
   "metadata": {
    "tags": []
   },
   "outputs": [],
   "source": [
    "data = macparland_data.X\n",
    "label = macparland_data.obs.celltype"
   ]
  },
  {
   "cell_type": "code",
   "execution_count": 23,
   "metadata": {
    "tags": []
   },
   "outputs": [
    {
     "name": "stdout",
     "output_type": "stream",
     "text": [
      "frac 1.0, rep 0\n",
      "Loaded data...\n",
      "c=10\n",
      "c=100\n",
      "c=1000\n",
      "{10: 0.9791016665293908, 100: 0.9811763995277708, 1000: 0.9793977431842518}\n",
      "best c=100\n",
      "train set accuracy: 1.0\n",
      "test set accuracy: 0.9852\n",
      "test set macro F1: 0.9774\n",
      "\n",
      "\n",
      "frac 1.0, rep 1\n",
      "Loaded data...\n",
      "c=10\n",
      "c=100\n",
      "c=1000\n",
      "{10: 0.980140350877193, 100: 0.9802888284874941, 1000: 0.9782129972819373}\n",
      "best c=100\n",
      "train set accuracy: 1.0\n",
      "test set accuracy: 0.9864\n",
      "test set macro F1: 0.9802\n",
      "\n",
      "\n",
      "frac 1.0, rep 2\n",
      "Loaded data...\n",
      "c=10\n",
      "c=100\n",
      "c=1000\n",
      "{10: 0.9810296790489526, 100: 0.9810291299453642, 1000: 0.9810288004832112}\n",
      "best c=10\n",
      "train set accuracy: 1.0\n",
      "test set accuracy: 0.9822\n",
      "test set macro F1: 0.9689\n",
      "\n",
      "\n"
     ]
    }
   ],
   "source": [
    "NREPS = 3 #10\n",
    "SAMPLING_FRACS = [1.0]\n",
    "\n",
    "ks = []\n",
    "fracs = []\n",
    "cs=[]\n",
    "train_accs = []\n",
    "test_accs = []\n",
    "test_f1s = []\n",
    "for k in np.arange(NREPS):\n",
    "    for frac in SAMPLING_FRACS:\n",
    "        ks.append(k)\n",
    "        fracs.append(frac)\n",
    "        print(\"frac {}, rep {}\".format(frac, k))\n",
    "        #downsample training set\n",
    "        sss = StratifiedShuffleSplit(n_splits=1, test_size=0.2, random_state=2022) #update Aug 2023: hold train/val across all runs #same train/val set split for each frac in k\n",
    "        for index_train, index_val in sss.split(data, label):\n",
    "            np.random.seed(k)\n",
    "            index_train_small = np.random.choice(index_train, round(index_train.shape[0]*frac), replace=False)\n",
    "            X_train, y_train = data[index_train_small], label[index_train_small]\n",
    "            X_test, y_test = data[index_val], label[index_val]\n",
    "\n",
    "        print(\"Loaded data...\")\n",
    "\n",
    "        #train on train_dataset\n",
    "        \n",
    "        #c=0.1 was always best (for Zheng68k), using going forward without always running tuning\n",
    "        #hyperparameter tune using k-fold val on training data\n",
    "        cv_results = {}\n",
    "        for c in [10, 100, 1000]:\n",
    "            print(\"c={}\".format(c))\n",
    "            lr = LogisticRegression(random_state=0, penalty=\"l1\", C=c, solver=\"liblinear\")\n",
    "            res = cross_validate(lr, X_train, y_train, scoring=['accuracy'])\n",
    "            cv_results[c] = np.mean(res['test_accuracy'])\n",
    "        print(cv_results)\n",
    "\n",
    "        #choose best c and calc performance on val_dataset\n",
    "        best_ind = np.argmax(list(cv_results.values()))\n",
    "        c = list(cv_results.keys())[best_ind]\n",
    "        cs.append(c)\n",
    "        \n",
    "        #c = 0.1\n",
    "        print(\"best c={}\".format(c))\n",
    "        lr = LogisticRegression(penalty=\"l1\", C=c, solver=\"liblinear\") #random_state=0, \n",
    "        lr.fit(X_train, y_train)\n",
    "        train_acc = lr.score(X_train, y_train)\n",
    "        test_acc = lr.score(X_test, y_test)\n",
    "        print(\"train set accuracy: \" + str(np.around(train_acc, 4)))\n",
    "        print(\"test set accuracy: \" + str(np.around(test_acc, 4)))\n",
    "        val_macro_f1 = f1_score(y_test, lr.predict(X_test), average=\"macro\")\n",
    "        print(\"test set macro F1: \" + str(np.around(val_macro_f1, 4)))\n",
    "        train_accs.append(train_acc)\n",
    "        test_accs.append(test_acc)\n",
    "        test_f1s.append(val_macro_f1)\n",
    "        \n",
    "        print(\"\\n\")\n",
    "        \n"
   ]
  },
  {
   "cell_type": "markdown",
   "metadata": {},
   "source": [
    "## Sample efficiency"
   ]
  },
  {
   "cell_type": "code",
   "execution_count": 31,
   "metadata": {
    "tags": []
   },
   "outputs": [
    {
     "name": "stdout",
     "output_type": "stream",
     "text": [
      "frac 0.75, rep 0\n",
      "Loaded data...\n",
      "c=1\n",
      "c=10\n",
      "c=100\n",
      "c=1000\n",
      "c=10000\n",
      "best c=100\n",
      "train set accuracy: 1.0\n",
      "test set accuracy: 0.984\n",
      "test set macro F1: 0.9774\n",
      "\n",
      "\n",
      "frac 0.5, rep 0\n",
      "Loaded data...\n",
      "c=1\n",
      "c=10\n",
      "c=100\n",
      "c=1000\n",
      "c=10000\n",
      "best c=100\n",
      "train set accuracy: 1.0\n",
      "test set accuracy: 0.9828\n",
      "test set macro F1: 0.9724\n",
      "\n",
      "\n",
      "frac 0.25, rep 0\n",
      "Loaded data...\n",
      "c=1\n",
      "c=10\n",
      "c=100\n",
      "c=1000\n",
      "c=10000\n",
      "best c=100\n",
      "train set accuracy: 1.0\n",
      "test set accuracy: 0.9834\n",
      "test set macro F1: 0.9665\n",
      "\n",
      "\n",
      "frac 0.1, rep 0\n",
      "Loaded data...\n",
      "c=1\n"
     ]
    },
    {
     "name": "stderr",
     "output_type": "stream",
     "text": [
      "/opt/conda/rpeyser/envs/rna-pretrain/lib/python3.9/site-packages/sklearn/model_selection/_split.py:676: UserWarning: The least populated class in y has only 1 members, which is less than n_splits=5.\n",
      "  warnings.warn(\n"
     ]
    },
    {
     "name": "stdout",
     "output_type": "stream",
     "text": [
      "c=10\n"
     ]
    },
    {
     "name": "stderr",
     "output_type": "stream",
     "text": [
      "/opt/conda/rpeyser/envs/rna-pretrain/lib/python3.9/site-packages/sklearn/model_selection/_split.py:676: UserWarning: The least populated class in y has only 1 members, which is less than n_splits=5.\n",
      "  warnings.warn(\n"
     ]
    },
    {
     "name": "stdout",
     "output_type": "stream",
     "text": [
      "c=100\n"
     ]
    },
    {
     "name": "stderr",
     "output_type": "stream",
     "text": [
      "/opt/conda/rpeyser/envs/rna-pretrain/lib/python3.9/site-packages/sklearn/model_selection/_split.py:676: UserWarning: The least populated class in y has only 1 members, which is less than n_splits=5.\n",
      "  warnings.warn(\n"
     ]
    },
    {
     "name": "stdout",
     "output_type": "stream",
     "text": [
      "c=1000\n"
     ]
    },
    {
     "name": "stderr",
     "output_type": "stream",
     "text": [
      "/opt/conda/rpeyser/envs/rna-pretrain/lib/python3.9/site-packages/sklearn/model_selection/_split.py:676: UserWarning: The least populated class in y has only 1 members, which is less than n_splits=5.\n",
      "  warnings.warn(\n"
     ]
    },
    {
     "name": "stdout",
     "output_type": "stream",
     "text": [
      "c=10000\n"
     ]
    },
    {
     "name": "stderr",
     "output_type": "stream",
     "text": [
      "/opt/conda/rpeyser/envs/rna-pretrain/lib/python3.9/site-packages/sklearn/model_selection/_split.py:676: UserWarning: The least populated class in y has only 1 members, which is less than n_splits=5.\n",
      "  warnings.warn(\n"
     ]
    },
    {
     "name": "stdout",
     "output_type": "stream",
     "text": [
      "best c=1000\n",
      "train set accuracy: 1.0\n",
      "test set accuracy: 0.9721\n",
      "test set macro F1: 0.9112\n",
      "\n",
      "\n",
      "frac 0.75, rep 1\n",
      "Loaded data...\n",
      "c=1\n",
      "c=10\n",
      "c=100\n",
      "c=1000\n",
      "c=10000\n",
      "best c=100\n",
      "train set accuracy: 1.0\n",
      "test set accuracy: 0.9816\n",
      "test set macro F1: 0.9737\n",
      "\n",
      "\n",
      "frac 0.5, rep 1\n",
      "Loaded data...\n",
      "c=1\n",
      "c=10\n",
      "c=100\n",
      "c=1000\n",
      "c=10000\n",
      "best c=1000\n",
      "train set accuracy: 1.0\n",
      "test set accuracy: 0.9798\n",
      "test set macro F1: 0.971\n",
      "\n",
      "\n",
      "frac 0.25, rep 1\n",
      "Loaded data...\n",
      "c=1\n",
      "c=10\n",
      "c=100\n",
      "c=1000\n",
      "c=10000\n",
      "best c=100\n",
      "train set accuracy: 1.0\n",
      "test set accuracy: 0.9781\n",
      "test set macro F1: 0.9621\n",
      "\n",
      "\n",
      "frac 0.1, rep 1\n",
      "Loaded data...\n",
      "c=1\n"
     ]
    },
    {
     "name": "stderr",
     "output_type": "stream",
     "text": [
      "/opt/conda/rpeyser/envs/rna-pretrain/lib/python3.9/site-packages/sklearn/model_selection/_split.py:676: UserWarning: The least populated class in y has only 1 members, which is less than n_splits=5.\n",
      "  warnings.warn(\n"
     ]
    },
    {
     "name": "stdout",
     "output_type": "stream",
     "text": [
      "c=10\n"
     ]
    },
    {
     "name": "stderr",
     "output_type": "stream",
     "text": [
      "/opt/conda/rpeyser/envs/rna-pretrain/lib/python3.9/site-packages/sklearn/model_selection/_split.py:676: UserWarning: The least populated class in y has only 1 members, which is less than n_splits=5.\n",
      "  warnings.warn(\n"
     ]
    },
    {
     "name": "stdout",
     "output_type": "stream",
     "text": [
      "c=100\n"
     ]
    },
    {
     "name": "stderr",
     "output_type": "stream",
     "text": [
      "/opt/conda/rpeyser/envs/rna-pretrain/lib/python3.9/site-packages/sklearn/model_selection/_split.py:676: UserWarning: The least populated class in y has only 1 members, which is less than n_splits=5.\n",
      "  warnings.warn(\n"
     ]
    },
    {
     "name": "stdout",
     "output_type": "stream",
     "text": [
      "c=1000\n"
     ]
    },
    {
     "name": "stderr",
     "output_type": "stream",
     "text": [
      "/opt/conda/rpeyser/envs/rna-pretrain/lib/python3.9/site-packages/sklearn/model_selection/_split.py:676: UserWarning: The least populated class in y has only 1 members, which is less than n_splits=5.\n",
      "  warnings.warn(\n"
     ]
    },
    {
     "name": "stdout",
     "output_type": "stream",
     "text": [
      "c=10000\n"
     ]
    },
    {
     "name": "stderr",
     "output_type": "stream",
     "text": [
      "/opt/conda/rpeyser/envs/rna-pretrain/lib/python3.9/site-packages/sklearn/model_selection/_split.py:676: UserWarning: The least populated class in y has only 1 members, which is less than n_splits=5.\n",
      "  warnings.warn(\n"
     ]
    },
    {
     "name": "stdout",
     "output_type": "stream",
     "text": [
      "best c=10000\n",
      "train set accuracy: 1.0\n",
      "test set accuracy: 0.9627\n",
      "test set macro F1: 0.8886\n",
      "\n",
      "\n",
      "frac 0.75, rep 2\n",
      "Loaded data...\n",
      "c=1\n",
      "c=10\n",
      "c=100\n",
      "c=1000\n",
      "c=10000\n",
      "best c=1000\n",
      "train set accuracy: 1.0\n",
      "test set accuracy: 0.9834\n",
      "test set macro F1: 0.9759\n",
      "\n",
      "\n",
      "frac 0.5, rep 2\n",
      "Loaded data...\n",
      "c=1\n",
      "c=10\n",
      "c=100\n",
      "c=1000\n",
      "c=10000\n",
      "best c=10\n",
      "train set accuracy: 1.0\n",
      "test set accuracy: 0.9816\n",
      "test set macro F1: 0.9688\n",
      "\n",
      "\n",
      "frac 0.25, rep 2\n",
      "Loaded data...\n",
      "c=1\n",
      "c=10\n",
      "c=100\n",
      "c=1000\n",
      "c=10000\n",
      "best c=100\n",
      "train set accuracy: 1.0\n",
      "test set accuracy: 0.9781\n",
      "test set macro F1: 0.9598\n",
      "\n",
      "\n",
      "frac 0.1, rep 2\n",
      "Loaded data...\n",
      "c=1\n"
     ]
    },
    {
     "name": "stderr",
     "output_type": "stream",
     "text": [
      "/opt/conda/rpeyser/envs/rna-pretrain/lib/python3.9/site-packages/sklearn/model_selection/_split.py:676: UserWarning: The least populated class in y has only 2 members, which is less than n_splits=5.\n",
      "  warnings.warn(\n"
     ]
    },
    {
     "name": "stdout",
     "output_type": "stream",
     "text": [
      "c=10\n"
     ]
    },
    {
     "name": "stderr",
     "output_type": "stream",
     "text": [
      "/opt/conda/rpeyser/envs/rna-pretrain/lib/python3.9/site-packages/sklearn/model_selection/_split.py:676: UserWarning: The least populated class in y has only 2 members, which is less than n_splits=5.\n",
      "  warnings.warn(\n"
     ]
    },
    {
     "name": "stdout",
     "output_type": "stream",
     "text": [
      "c=100\n"
     ]
    },
    {
     "name": "stderr",
     "output_type": "stream",
     "text": [
      "/opt/conda/rpeyser/envs/rna-pretrain/lib/python3.9/site-packages/sklearn/model_selection/_split.py:676: UserWarning: The least populated class in y has only 2 members, which is less than n_splits=5.\n",
      "  warnings.warn(\n"
     ]
    },
    {
     "name": "stdout",
     "output_type": "stream",
     "text": [
      "c=1000\n"
     ]
    },
    {
     "name": "stderr",
     "output_type": "stream",
     "text": [
      "/opt/conda/rpeyser/envs/rna-pretrain/lib/python3.9/site-packages/sklearn/model_selection/_split.py:676: UserWarning: The least populated class in y has only 2 members, which is less than n_splits=5.\n",
      "  warnings.warn(\n"
     ]
    },
    {
     "name": "stdout",
     "output_type": "stream",
     "text": [
      "c=10000\n"
     ]
    },
    {
     "name": "stderr",
     "output_type": "stream",
     "text": [
      "/opt/conda/rpeyser/envs/rna-pretrain/lib/python3.9/site-packages/sklearn/model_selection/_split.py:676: UserWarning: The least populated class in y has only 2 members, which is less than n_splits=5.\n",
      "  warnings.warn(\n"
     ]
    },
    {
     "name": "stdout",
     "output_type": "stream",
     "text": [
      "best c=1000\n",
      "train set accuracy: 1.0\n",
      "test set accuracy: 0.9715\n",
      "test set macro F1: 0.9436\n",
      "\n",
      "\n"
     ]
    }
   ],
   "source": [
    "#only run the sampling experiment 3 times\n",
    "NREPS = 3\n",
    "SAMPLING_FRACS = [0.75, 0.5, 0.25, 0.1]\n",
    "\n",
    "#ks = []\n",
    "#fracs = []\n",
    "#cs=[]\n",
    "#train_accs = []\n",
    "#test_accs = []\n",
    "#test_f1s = []\n",
    "for k in np.arange(NREPS): \n",
    "    for frac in SAMPLING_FRACS:\n",
    "        ks.append(k)\n",
    "        fracs.append(frac)\n",
    "        print(\"frac {}, rep {}\".format(frac, k))\n",
    "        #downsample training set\n",
    "        sss = StratifiedShuffleSplit(n_splits=1, test_size=0.2, random_state=2022) #update Aug 2023: hold train/val across all runs #previously: same train/val set split for each frac in k\n",
    "        for index_train, index_val in sss.split(data, label):\n",
    "            np.random.seed(k)\n",
    "            index_train_small = np.random.choice(index_train, round(index_train.shape[0]*frac), replace=False)\n",
    "            X_train, y_train = data[index_train_small], label[index_train_small]\n",
    "            X_test, y_test = data[index_val], label[index_val]\n",
    "\n",
    "        print(\"Loaded data...\")\n",
    "\n",
    "        #train on train_dataset\n",
    "        \n",
    "        #c=0.1 was always best, using going forward without always running tuning\n",
    "        #hyperparameter tune using k-fold val on training data\n",
    "        cv_results = {}\n",
    "        for c in [1,10,100,1000,10000]:\n",
    "            print(\"c={}\".format(c))\n",
    "            lr = LogisticRegression(random_state=0, penalty=\"l1\", C=c, solver=\"liblinear\")\n",
    "            res = cross_validate(lr, X_train, y_train, scoring=['accuracy'])\n",
    "            cv_results[c] = np.mean(res['test_accuracy'])\n",
    "        #print(cv_results)\n",
    "\n",
    "        #choose best c and calc performance on val_dataset\n",
    "        best_ind = np.argmax(list(cv_results.values()))\n",
    "        c = list(cv_results.keys())[best_ind]\n",
    "        cs.append(c)\n",
    "        \n",
    "        #c = 0.1\n",
    "        print(\"best c={}\".format(c))\n",
    "        lr = LogisticRegression(penalty=\"l1\", C=c, solver=\"liblinear\") #random_state=0, \n",
    "        lr.fit(X_train, y_train)\n",
    "        train_acc = lr.score(X_train, y_train)\n",
    "        test_acc = lr.score(X_test, y_test)\n",
    "        print(\"train set accuracy: \" + str(np.around(train_acc, 4)))\n",
    "        print(\"test set accuracy: \" + str(np.around(test_acc, 4)))\n",
    "        val_macro_f1 = f1_score(y_test, lr.predict(X_test), average=\"macro\")\n",
    "        print(\"test set macro F1: \" + str(np.around(val_macro_f1, 4)))\n",
    "        train_accs.append(train_acc)\n",
    "        test_accs.append(test_acc)\n",
    "        test_f1s.append(val_macro_f1)\n",
    "        \n",
    "        print(\"\\n\")\n",
    "        \n"
   ]
  },
  {
   "cell_type": "markdown",
   "metadata": {},
   "source": [
    "## Visualization"
   ]
  },
  {
   "cell_type": "code",
   "execution_count": 47,
   "metadata": {
    "tags": []
   },
   "outputs": [],
   "source": [
    "res_df = pd.DataFrame({'model': np.repeat('logistic regression', 15), 'k':ks, 'frac_training_data':fracs, 'test_acc':test_accs, 'test_f1':test_f1s})"
   ]
  },
  {
   "cell_type": "code",
   "execution_count": 49,
   "metadata": {
    "tags": []
   },
   "outputs": [],
   "source": [
    "res_df.to_csv(\"sampleeff_LR_macparland_metrics.csv\", index=False)"
   ]
  },
  {
   "cell_type": "code",
   "execution_count": 50,
   "metadata": {
    "tags": []
   },
   "outputs": [
    {
     "data": {
      "text/html": [
       "<div>\n",
       "<style scoped>\n",
       "    .dataframe tbody tr th:only-of-type {\n",
       "        vertical-align: middle;\n",
       "    }\n",
       "\n",
       "    .dataframe tbody tr th {\n",
       "        vertical-align: top;\n",
       "    }\n",
       "\n",
       "    .dataframe thead th {\n",
       "        text-align: right;\n",
       "    }\n",
       "</style>\n",
       "<table border=\"1\" class=\"dataframe\">\n",
       "  <thead>\n",
       "    <tr style=\"text-align: right;\">\n",
       "      <th></th>\n",
       "      <th>k</th>\n",
       "      <th>test_acc</th>\n",
       "      <th>test_f1</th>\n",
       "    </tr>\n",
       "    <tr>\n",
       "      <th>frac_training_data</th>\n",
       "      <th></th>\n",
       "      <th></th>\n",
       "      <th></th>\n",
       "    </tr>\n",
       "  </thead>\n",
       "  <tbody>\n",
       "    <tr>\n",
       "      <th>0.10</th>\n",
       "      <td>1.0</td>\n",
       "      <td>0.968781</td>\n",
       "      <td>0.914461</td>\n",
       "    </tr>\n",
       "    <tr>\n",
       "      <th>0.25</th>\n",
       "      <td>1.0</td>\n",
       "      <td>0.979846</td>\n",
       "      <td>0.962801</td>\n",
       "    </tr>\n",
       "    <tr>\n",
       "      <th>0.50</th>\n",
       "      <td>1.0</td>\n",
       "      <td>0.981427</td>\n",
       "      <td>0.970734</td>\n",
       "    </tr>\n",
       "    <tr>\n",
       "      <th>0.75</th>\n",
       "      <td>1.0</td>\n",
       "      <td>0.983007</td>\n",
       "      <td>0.975650</td>\n",
       "    </tr>\n",
       "    <tr>\n",
       "      <th>1.00</th>\n",
       "      <td>1.0</td>\n",
       "      <td>0.984588</td>\n",
       "      <td>0.975514</td>\n",
       "    </tr>\n",
       "  </tbody>\n",
       "</table>\n",
       "</div>"
      ],
      "text/plain": [
       "                      k  test_acc   test_f1\n",
       "frac_training_data                         \n",
       "0.10                1.0  0.968781  0.914461\n",
       "0.25                1.0  0.979846  0.962801\n",
       "0.50                1.0  0.981427  0.970734\n",
       "0.75                1.0  0.983007  0.975650\n",
       "1.00                1.0  0.984588  0.975514"
      ]
     },
     "execution_count": 50,
     "metadata": {},
     "output_type": "execute_result"
    }
   ],
   "source": [
    "res_df.groupby('frac_training_data').mean()"
   ]
  },
  {
   "cell_type": "code",
   "execution_count": 48,
   "metadata": {
    "scrolled": true,
    "tags": []
   },
   "outputs": [
    {
     "data": {
      "text/plain": [
       "<AxesSubplot:xlabel='frac_training_data', ylabel='test_acc'>"
      ]
     },
     "execution_count": 48,
     "metadata": {},
     "output_type": "execute_result"
    },
    {
     "data": {
      "image/png": "[encoded data removed]",
      "text/plain": [
       "<Figure size 432x288 with 1 Axes>"
      ]
     },
     "metadata": {
      "needs_background": "light"
     },
     "output_type": "display_data"
    }
   ],
   "source": [
    "sns.lineplot(data=res_df, x=\"frac_training_data\", y=\"test_acc\")#, hue=\"exp\")\n"
   ]
  },
  {
   "cell_type": "markdown",
   "metadata": {
    "jp-MarkdownHeadingCollapsed": true
   },
   "source": [
    "# Run logistic regression (original, with multiple hepatocyte clusters)"
   ]
  },
  {
   "cell_type": "code",
   "execution_count": 17,
   "metadata": {
    "tags": []
   },
   "outputs": [],
   "source": [
    "data = macparland_data.X\n",
    "label = macparland_data.obs.unmerged_celltype"
   ]
  },
  {
   "cell_type": "code",
   "execution_count": 51,
   "metadata": {
    "tags": []
   },
   "outputs": [
    {
     "name": "stdout",
     "output_type": "stream",
     "text": [
      "frac 1.0, rep 0\n",
      "Loaded data...\n",
      "c=10\n",
      "c=100\n",
      "c=1000\n",
      "c=10000\n",
      "{10: 0.9368605551437279, 100: 0.9404179776514839, 1000: 0.9352299371276391, 10000: 0.9164078741454575}\n",
      "best c=100\n",
      "train set accuracy: 1.0\n",
      "test set accuracy: 0.9425\n",
      "test set macro F1: 0.9394\n",
      "\n",
      "\n",
      "frac 1.0, rep 1\n",
      "Loaded data...\n",
      "c=10\n",
      "c=100\n",
      "c=1000\n",
      "c=10000\n",
      "{10: 0.936119155478681, 100: 0.9371578398264833, 1000: 0.9318225297202318, 10000: 0.9181879581583064}\n",
      "best c=100\n",
      "train set accuracy: 1.0\n",
      "test set accuracy: 0.9443\n",
      "test set macro F1: 0.944\n",
      "\n",
      "\n",
      "frac 1.0, rep 2\n",
      "Loaded data...\n",
      "c=10\n",
      "c=100\n",
      "c=1000\n",
      "c=10000\n",
      "{10: 0.9362699393240534, 100: 0.9389375943771793, 1000: 0.9341935590149081, 10000: 0.9170009060209209}\n",
      "best c=100\n",
      "train set accuracy: 1.0\n",
      "test set accuracy: 0.9425\n",
      "test set macro F1: 0.9418\n",
      "\n",
      "\n",
      "frac 1.0, rep 3\n",
      "Loaded data...\n",
      "c=10\n",
      "c=100\n",
      "c=1000\n",
      "c=10000\n",
      "{10: 0.9390836559316915, 100: 0.9390829970073854, 1000: 0.9324142437470829, 10000: 0.9183333607885127}\n",
      "best c=10\n",
      "train set accuracy: 1.0\n",
      "test set accuracy: 0.9478\n",
      "test set macro F1: 0.9501\n",
      "\n",
      "\n",
      "frac 1.0, rep 4\n",
      "Loaded data...\n",
      "c=10\n",
      "c=100\n",
      "c=1000\n",
      "c=10000\n",
      "{10: 0.9367122971748622, 100: 0.9384917222634049, 1000: 0.9344895258490515, 10000: 0.919519534360157}\n",
      "best c=100\n",
      "train set accuracy: 1.0\n",
      "test set accuracy: 0.9437\n",
      "test set macro F1: 0.9435\n",
      "\n",
      "\n"
     ]
    }
   ],
   "source": [
    "NREPS = 5 #10\n",
    "SAMPLING_FRACS = [1.0]\n",
    "\n",
    "ks = []\n",
    "fracs = []\n",
    "cs=[]\n",
    "train_accs = []\n",
    "test_accs = []\n",
    "test_f1s = []\n",
    "for k in np.arange(NREPS):\n",
    "    for frac in SAMPLING_FRACS:\n",
    "        ks.append(k)\n",
    "        fracs.append(frac)\n",
    "        print(\"frac {}, rep {}\".format(frac, k))\n",
    "        #downsample training set\n",
    "        sss = StratifiedShuffleSplit(n_splits=1, test_size=0.2, random_state=2022) #update Aug 2023: hold train/val across all runs #same train/val set split for each frac in k\n",
    "        for index_train, index_val in sss.split(data, label):\n",
    "            np.random.seed(k)\n",
    "            index_train_small = np.random.choice(index_train, round(index_train.shape[0]*frac), replace=False)\n",
    "            X_train, y_train = data[index_train_small], label[index_train_small]\n",
    "            X_test, y_test = data[index_val], label[index_val]\n",
    "\n",
    "        print(\"Loaded data...\")\n",
    "\n",
    "        #train on train_dataset\n",
    "        \n",
    "        #c=0.1 was always best (for Zheng68k), using going forward without always running tuning\n",
    "        #hyperparameter tune using k-fold val on training data\n",
    "        cv_results = {}\n",
    "        for c in [10, 100, 1000, 10000]:\n",
    "            print(\"c={}\".format(c))\n",
    "            lr = LogisticRegression(random_state=0, penalty=\"l1\", C=c, solver=\"liblinear\")\n",
    "            res = cross_validate(lr, X_train, y_train, scoring=['accuracy'])\n",
    "            cv_results[c] = np.mean(res['test_accuracy'])\n",
    "        print(cv_results)\n",
    "\n",
    "        #choose best c and calc performance on val_dataset\n",
    "        best_ind = np.argmax(list(cv_results.values()))\n",
    "        c = list(cv_results.keys())[best_ind]\n",
    "        cs.append(c)\n",
    "        \n",
    "        #c = 0.1\n",
    "        print(\"best c={}\".format(c))\n",
    "        lr = LogisticRegression(penalty=\"l1\", C=c, solver=\"liblinear\") #random_state=0, \n",
    "        lr.fit(X_train, y_train)\n",
    "        train_acc = lr.score(X_train, y_train)\n",
    "        test_acc = lr.score(X_test, y_test)\n",
    "        print(\"train set accuracy: \" + str(np.around(train_acc, 4)))\n",
    "        print(\"test set accuracy: \" + str(np.around(test_acc, 4)))\n",
    "        val_macro_f1 = f1_score(y_test, lr.predict(X_test), average=\"macro\")\n",
    "        print(\"test set macro F1: \" + str(np.around(val_macro_f1, 4)))\n",
    "        train_accs.append(train_acc)\n",
    "        test_accs.append(test_acc)\n",
    "        test_f1s.append(val_macro_f1)\n",
    "        \n",
    "        print(\"\\n\")\n",
    "        \n"
   ]
  },
  {
   "cell_type": "code",
   "execution_count": 52,
   "metadata": {
    "scrolled": true
   },
   "outputs": [
    {
     "name": "stdout",
     "output_type": "stream",
     "text": [
      "Central_venous_LSECs: 0.9672131147540983\n",
      "Cholangiocytes: 0.9583333333333334\n",
      "Erythroid_Cells: 1.0\n",
      "Hepatic_Stellate_Cells: 0.7142857142857143\n",
      "Hepatocyte_1: 0.8606965174129353\n",
      "Hepatocyte_2: 0.9230769230769231\n",
      "Hepatocyte_3: 1.0\n",
      "Hepatocyte_4: 0.859504132231405\n",
      "Hepatocyte_5: 1.0\n",
      "Hepatocyte_6: 0.7666666666666667\n",
      "Inflammatory_Macrophage: 0.9877300613496932\n",
      "Mature_B_Cells: 1.0\n",
      "NK-like_Cells: 0.9693877551020408\n",
      "Non-inflammatory_Macrophage: 0.9342105263157895\n",
      "Periportal_LSECs: 0.9538461538461539\n",
      "Plasma_Cells: 0.9901960784313726\n",
      "Portal_endothelial_Cells: 1.0\n",
      "alpha-beta_T_Cells: 0.9895833333333334\n",
      "gamma-delta_T_Cells_1: 0.946236559139785\n",
      "gamma-delta_T_Cells_2: 0.8571428571428571\n"
     ]
    }
   ],
   "source": [
    "#check accuracy per tissue class\n",
    "for ct in np.unique(macparland_data.obs.celltype):\n",
    "    print(ct+\": {}\".format(lr.score(X_test[y_test==ct], y_test[y_test==ct])))"
   ]
  }
 ],
 "metadata": {
  "kernelspec": {
   "display_name": "rna-pretrain",
   "language": "python",
   "name": "rna-pretrain"
  },
  "language_info": {
   "codemirror_mode": {
    "name": "ipython",
    "version": 3
   },
   "file_extension": ".py",
   "mimetype": "text/x-python",
   "name": "python",
   "nbconvert_exporter": "python",
   "pygments_lexer": "ipython3",
   "version": "3.9.12"
  },
  "vscode": {
   "interpreter": {
    "hash": "ea531a0049080d5658e3e61cf7db54ce403b028279b105adc411fb7eae04af57"
   }
  }
 },
 "nbformat": 4,
 "nbformat_minor": 4
}
