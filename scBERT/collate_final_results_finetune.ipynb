{
 "cells": [
  {
   "cell_type": "code",
   "execution_count": 35,
   "metadata": {
    "tags": []
   },
   "outputs": [],
   "source": [
    "import numpy as np\n",
    "import pandas as pd\n",
    "import os\n",
    "import matplotlib.pyplot as plt\n",
    "import seaborn as sns\n",
    "import scanpy as sc\n",
    "import anndata as ad\n",
    "import glob\n",
    "import torch\n",
    "from torch.utils.data import DataLoader, Dataset\n",
    "from torch.utils.data.distributed import DistributedSampler\n",
    "from torch.nn.parallel import DistributedDataParallel as DDP\n",
    "import torch.distributed as dist\n",
    "import torch.multiprocessing as mp\n",
    "from torch.nn.modules.utils import consume_prefix_in_state_dict_if_present\n",
    "from sklearn.model_selection import StratifiedShuffleSplit\n",
    "from sklearn.metrics import accuracy_score, f1_score, confusion_matrix, precision_recall_fscore_support, classification_report\n",
    "import scipy\n",
    "\n",
    "from performer_pytorch import PerformerLM\n",
    "from utils import *\n"
   ]
  },
  {
   "cell_type": "code",
   "execution_count": 2,
   "metadata": {
    "tags": []
   },
   "outputs": [],
   "source": [
    "os.environ[\"CUDA_VISIBLE_DEVICES\"]=\"0\"\n",
    "torch.cuda.is_available()\n",
    "world_size = torch.cuda.device_count()"
   ]
  },
  {
   "cell_type": "code",
   "execution_count": 36,
   "metadata": {
    "tags": []
   },
   "outputs": [],
   "source": [
    "ckpt_dir = \"ckpts\""
   ]
  },
  {
   "cell_type": "code",
   "execution_count": 37,
   "metadata": {
    "tags": []
   },
   "outputs": [],
   "source": [
    "finetune_model_list = ['finetune_shuffledataseedwise_seed'+str(i) for i in [1000, 2000, 3000, 4000, 2021, 2022, 2023]]\n",
    "#the finetuning runs that came from sample efficiency experiments with fraction data = 1.0:\n",
    "sampleff_frac1_list = ['finetune-sampleeff-2023-Aug-31-23:37:02/finetune_sampleeff_1.0_0', 'finetune-sampleeff-2023-Aug-31-23:37:02/finetune_sampleeff_1.0_1', 'finetune-sampleeff-2023-Aug-31-23:37:02/finetune_sampleeff_1.0_2']"
   ]
  },
  {
   "cell_type": "code",
   "execution_count": 38,
   "metadata": {
    "tags": []
   },
   "outputs": [],
   "source": [
    "nog2v_model_list = ['finetune_nog2v_shuffledataseedwise_seed'+str(i) for i in [1000, 2000, 3000, 4000, 0, 5000, 10000, 2021, 2022, 2023]]"
   ]
  },
  {
   "cell_type": "code",
   "execution_count": 39,
   "metadata": {
    "tags": []
   },
   "outputs": [],
   "source": [
    "no_pretraining_model_list = ['finetune_nopretraining_shuffledataseedwise_seed'+str(i) for i in [1000, 2000, 3000, 4000, 0, 5000, 10000, 2021, 2022, 2023]]"
   ]
  },
  {
   "cell_type": "code",
   "execution_count": 9,
   "metadata": {
    "tags": []
   },
   "outputs": [],
   "source": [
    "class SCDataset(Dataset):\n",
    "    def __init__(self, data, label, use_continuous):\n",
    "        super().__init__()\n",
    "        self.data = data\n",
    "        self.label = label\n",
    "        self.use_continuous = use_continuous\n",
    "\n",
    "    def __getitem__(self, index):\n",
    "        #rand_start = random.randint(0, self.data.shape[0]-1)\n",
    "        full_seq = self.data[index].toarray()[0]\n",
    "        full_seq[full_seq > (CLASS - 2)] = CLASS - 2\n",
    "        full_seq = torch.from_numpy(full_seq).long() #long() converts to int64\n",
    "        if(not self.use_continuous):\n",
    "            full_seq = full_seq.long() #long() converts to int64\n",
    "        full_seq = torch.cat((full_seq, torch.tensor([0]))).to(device) #this is the CLS token ?\n",
    "        seq_label = self.label[index]\n",
    "        return full_seq, seq_label\n",
    "\n",
    "    def __len__(self):\n",
    "        return self.data.shape[0]\n",
    "\n",
    "class Identity(torch.nn.Module):\n",
    "    def __init__(self, dropout = 0., h_dim = 100, out_dim = 10):\n",
    "        super(Identity, self).__init__()\n",
    "        self.conv1 = nn.Conv2d(1, 1, (1, 200))\n",
    "        self.act = nn.ReLU()\n",
    "        self.fc1 = nn.Linear(in_features=SEQ_LEN, out_features=512, bias=True)\n",
    "        self.act1 = nn.ReLU()\n",
    "        self.dropout1 = nn.Dropout(dropout)\n",
    "        self.fc2 = nn.Linear(in_features=512, out_features=h_dim, bias=True)\n",
    "        self.act2 = nn.ReLU()\n",
    "        self.dropout2 = nn.Dropout(dropout)\n",
    "        self.fc3 = nn.Linear(in_features=h_dim, out_features=out_dim, bias=True)\n",
    "\n",
    "    def forward(self, x):\n",
    "        x = x[:,None,:,:]\n",
    "        x = self.conv1(x)\n",
    "        x = self.act(x)\n",
    "        x = x.view(x.shape[0],-1)\n",
    "        x = self.fc1(x)\n",
    "        x = self.act1(x)\n",
    "        x = self.dropout1(x)\n",
    "        x = self.fc2(x)\n",
    "        x = self.act2(x)\n",
    "        x = self.dropout2(x)\n",
    "        x = self.fc3(x)\n",
    "        return x"
   ]
  },
  {
   "cell_type": "code",
   "execution_count": 10,
   "metadata": {
    "tags": []
   },
   "outputs": [],
   "source": [
    "BATCH_SIZE = 64\n",
    "CLASS = 7 \n",
    "USE_CONTINUOUS = False\n",
    "SIN_EMB_WAVELENGTH = None\n",
    "DATA_PATH = '/data/rna_rep_learning/scBERT/Zheng68K.h5ad'\n",
    "G2V_FILE = '/data/rna_rep_learning/scBERT/gene2vec_16906.npy'\n",
    "device = 'cuda'"
   ]
  },
  {
   "cell_type": "code",
   "execution_count": 11,
   "metadata": {
    "tags": []
   },
   "outputs": [
    {
     "name": "stdout",
     "output_type": "stream",
     "text": [
      "size of training data: 54760\n"
     ]
    }
   ],
   "source": [
    "data = sc.read_h5ad(DATA_PATH)\n",
    "\n",
    "label_dict, label = np.unique(np.array(data.obs['celltype']), return_inverse=True)  # Convert strings categorical to integrate categorical, and label_dict[label] can be restored\n",
    "class_num = np.unique(label, return_counts=True)[1].tolist() \n",
    "#class_weight = torch.tensor([(1 - (x / sum(class_num))) ** 2 for x in class_num]) #doesn't get used anywhere\n",
    "class_weight = torch.tensor([1/x for x in class_num])  #use this simpler weighting\n",
    "label = torch.from_numpy(label)\n",
    "data = data.X\n",
    "SEQ_LEN = data.shape[1] + 1 # num_genes + 1\n",
    "\n",
    "sss = StratifiedShuffleSplit(n_splits=1, test_size=0.2, random_state=2022) #update to hardcode to reduce sources of randomness/isolate performance differences between MODELS\n",
    "for index_train, index_val in sss.split(data, label):\n",
    "    data_train, label_train = data[index_train], label[index_train]\n",
    "    data_val, label_val = data[index_val], label[index_val]\n",
    "    train_dataset = SCDataset(data_train, label_train, USE_CONTINUOUS)\n",
    "    val_dataset = SCDataset(data_val, label_val, USE_CONTINUOUS)\n",
    "print(\"size of training data: {}\".format(len(train_dataset)))\n",
    "#train_sampler = DistributedSampler(train_dataset, shuffle=True)\n",
    "#val_sampler = DistributedSampler(val_dataset, shuffle=True)\n",
    "\n",
    "# attempt to seed dataloader\n",
    "def seed_worker(worker_id):\n",
    "    worker_seed = torch.initial_seed() % 2**32\n",
    "    numpy.random.seed(worker_seed)\n",
    "    random.seed(worker_seed)\n",
    "\n",
    "g = torch.Generator()\n",
    "g.manual_seed(0)\n",
    "\n",
    "train_loader = DataLoader(train_dataset, batch_size=BATCH_SIZE, shuffle=True, worker_init_fn=seed_worker, generator=g)\n",
    "val_loader = DataLoader(val_dataset, batch_size=BATCH_SIZE, shuffle=True, worker_init_fn=seed_worker, generator=g)"
   ]
  },
  {
   "cell_type": "code",
   "execution_count": 12,
   "metadata": {
    "tags": []
   },
   "outputs": [],
   "source": [
    "all_model_paths = [glob.glob('ckpts/{}/*/*best.pth'.format(x))[0] for x in finetune_model_list]\n",
    "all_model_paths += [glob.glob('ckpts/{}/*best.pth'.format(x))[0] for x in sampleff_frac1_list]\n",
    "#all_model_paths += [glob.glob('ckpts/{}/*/*best.pth'.format(x))[0] for x in nog2v_model_list]\n",
    "#all_model_paths += [glob.glob('ckpts/{}/*/*best.pth'.format(x))[0] for x in no_pretraining_model_list]"
   ]
  },
  {
   "cell_type": "code",
   "execution_count": 79,
   "metadata": {
    "tags": []
   },
   "outputs": [
    {
     "name": "stdout",
     "output_type": "stream",
     "text": [
      "Loading model: ckpts/finetune_shuffledataseedwise_seed1000/2023-Sep-06-11:53:39/finetune_shuffledataseedwise_seed1000_best.pth\n",
      "Experiment: finetune\n",
      "Val accuracy: 0.7732651570489408 || Val F1: 0.6792136768260693\n",
      "\n",
      "\n",
      "Loading model: ckpts/finetune_shuffledataseedwise_seed2000/2023-Sep-06-16:20:42/finetune_shuffledataseedwise_seed2000_best.pth\n",
      "Experiment: finetune\n",
      "Val accuracy: 0.7716581446311176 || Val F1: 0.672881168001843\n",
      "\n",
      "\n",
      "Loading model: ckpts/finetune_shuffledataseedwise_seed3000/2023-Sep-06-20:47:39/finetune_shuffledataseedwise_seed3000_best.pth\n",
      "Experiment: finetune\n",
      "Val accuracy: 0.7385682980277575 || Val F1: 0.6641635728794179\n",
      "\n",
      "\n",
      "Loading model: ckpts/finetune_shuffledataseedwise_seed4000/2023-Sep-07-01:14:57/finetune_shuffledataseedwise_seed4000_best.pth\n",
      "Experiment: finetune\n",
      "Val accuracy: 0.7738495252008766 || Val F1: 0.6731558172693294\n",
      "\n",
      "\n",
      "Loading model: ckpts/finetune_shuffledataseedwise_seed2021/2023-Sep-07-05:41:52/finetune_shuffledataseedwise_seed2021_best.pth\n",
      "Experiment: finetune\n",
      "Val accuracy: 0.7309715120525931 || Val F1: 0.6465639848820897\n",
      "\n",
      "\n",
      "Loading model: ckpts/finetune_shuffledataseedwise_seed2022/2023-Sep-07-10:08:54/finetune_shuffledataseedwise_seed2022_best.pth\n",
      "Experiment: finetune\n",
      "Val accuracy: 0.7802775748721694 || Val F1: 0.6790077087603601\n",
      "\n",
      "\n",
      "Loading model: ckpts/finetune_shuffledataseedwise_seed2023/2023-Sep-07-14:35:40/finetune_shuffledataseedwise_seed2023_best.pth\n",
      "Experiment: finetune\n",
      "Val accuracy: 0.7673484295105917 || Val F1: 0.6614976914515405\n",
      "\n",
      "\n",
      "Loading model: ckpts/finetune-sampleeff-2023-Aug-31-23:37:02/finetune_sampleeff_1.0_0/finetune_sampleeff_1.0_0_best.pth\n",
      "Experiment: finetune\n",
      "Val accuracy: 0.7888239590942293 || Val F1: 0.7040736525446557\n",
      "\n",
      "\n",
      "Loading model: ckpts/finetune-sampleeff-2023-Aug-31-23:37:02/finetune_sampleeff_1.0_1/finetune_sampleeff_1.0_1_best.pth\n",
      "Experiment: finetune\n",
      "Val accuracy: 0.7593133674214755 || Val F1: 0.6739047406003574\n",
      "\n",
      "\n",
      "Loading model: ckpts/finetune-sampleeff-2023-Aug-31-23:37:02/finetune_sampleeff_1.0_2/finetune_sampleeff_1.0_2_best.pth\n",
      "Experiment: finetune\n",
      "Val accuracy: 0.7808619430241052 || Val F1: 0.6990191089133753\n",
      "\n",
      "\n"
     ]
    }
   ],
   "source": [
    "#reweight for class balance\n",
    "class_weight = torch.tensor([1/x for x in class_num])  #use this simpler weighting\n",
    "loss_fn = nn.CrossEntropyLoss(weight=class_weight).to(device)\n",
    "\n",
    "# load model\n",
    "accs = []\n",
    "accs_hard = []\n",
    "f1s = []\n",
    "f1s_hard = []\n",
    "experiment = []\n",
    "for ckpt_path in all_model_paths:\n",
    "    if 'nog2v' in ckpt_path:\n",
    "        POS_EMBED_USING = False\n",
    "        exp = 'no_g2v'\n",
    "    else:\n",
    "        POS_EMBED_USING = True\n",
    "        if 'pretraining' in ckpt_path:\n",
    "            exp = 'no_pretraining'\n",
    "        else:\n",
    "            exp = 'finetune'\n",
    "    experiment.append(exp)\n",
    "    print(\"Loading model: {}\".format(ckpt_path))\n",
    "    print(\"Experiment: {}\".format(exp))\n",
    "    model = PerformerLM(\n",
    "        num_tokens = CLASS,\n",
    "        dim = 200,\n",
    "        depth = 6,\n",
    "        max_seq_len = SEQ_LEN,\n",
    "        heads = 10,\n",
    "        local_attn_heads = 0,\n",
    "        g2v_position_emb = POS_EMBED_USING,\n",
    "        g2v_file = G2V_FILE,\n",
    "        pred_continuous = USE_CONTINUOUS,\n",
    "        sin_emb_wavelength = SIN_EMB_WAVELENGTH,\n",
    "    )\n",
    "    model = model.to(device)\n",
    "\n",
    "    # Load checkpoint\n",
    "    checkpoint = torch.load(ckpt_path, map_location=device)\n",
    "    consume_prefix_in_state_dict_if_present(checkpoint['model_state_dict'], \"module.\")\n",
    "    #print(\"Loaded finetuned ckpt...\")\n",
    "    model.to_out = Identity(dropout=0., h_dim=128, out_dim=label_dict.shape[0])\n",
    "    model.load_state_dict(checkpoint['model_state_dict'])\n",
    "    model = model.to(device)    \n",
    "    cur_epoch = checkpoint['epoch']\n",
    "\n",
    "    # model eval\n",
    "    model.eval()\n",
    "    running_loss = 0.0\n",
    "    predictions = []\n",
    "    truths = []\n",
    "    # hard to distinguish cell types: CD8+ cytotoxic T cells and CD8+/CD45RA+ T cells (F1-score = 0.788 versus 0.617, P-value = 9.025 × 10 −5; accuracy = 0.801 versus 0.724, P-value = 2.265 × 10−5)\n",
    "    predictions_hard = []\n",
    "    truths_hard = []\n",
    "    with torch.no_grad():\n",
    "        for index, (data_v, labels_v) in enumerate(val_loader):\n",
    "            index += 1\n",
    "            data_v, labels_v = data_v.to(device), labels_v.to(device)\n",
    "            logits = model(data_v)\n",
    "            loss = loss_fn(logits, labels_v)\n",
    "            running_loss += loss.item()\n",
    "            softmax = nn.Softmax(dim=-1)\n",
    "            final_prob = softmax(logits)\n",
    "            final = final_prob.argmax(dim=-1)\n",
    "            #final[np.amax(np.array(final_prob.cpu()), axis=-1) < UNASSIGN_THRES] = -1\n",
    "            predictions.append(final)\n",
    "            truths.append(labels_v)\n",
    "            predictions_hard.append(final[(labels_v == np.where(label_dict=='CD8+ Cytotoxic T')[0][0]) | (labels_v == np.where(label_dict=='CD8+/CD45RA+ Naive Cytotoxic')[0][0])])\n",
    "            truths_hard.append(labels_v[(labels_v == np.where(label_dict=='CD8+ Cytotoxic T')[0][0]) | (labels_v == np.where(label_dict=='CD8+/CD45RA+ Naive Cytotoxic')[0][0])])\n",
    "        del data_v, labels_v, logits, final_prob, final\n",
    "        # gather\n",
    "        predictions = torch.cat(predictions, dim=0)\n",
    "        predictions_hard = torch.cat(predictions_hard, dim=0).cpu()\n",
    "        truths = torch.cat(truths, dim=0)\n",
    "        truths_hard = torch.cat(truths_hard, dim=0).cpu()\n",
    "        no_drop = predictions != -1\n",
    "        predictions = np.array((predictions[no_drop]).cpu())\n",
    "        truths = np.array((truths[no_drop]).cpu())\n",
    "        cur_acc = accuracy_score(truths, predictions)\n",
    "        f1 = f1_score(truths, predictions, average='macro')\n",
    "        val_loss = running_loss / index\n",
    "        accs.append(cur_acc)\n",
    "        accs_hard.append(accuracy_score(truths_hard, predictions_hard))\n",
    "        f1s.append(f1)\n",
    "        f1s_hard.append(f1_score(truths, predictions, average='macro', labels=[np.where(label_dict=='CD8+ Cytotoxic T')[0][0], np.where(label_dict=='CD8+/CD45RA+ Naive Cytotoxic')[0][0]]))\n",
    "        print(\"Val accuracy: {} || Val F1: {}\".format(cur_acc, f1))\n",
    "        print(\"\\n\")"
   ]
  },
  {
   "cell_type": "code",
   "execution_count": 80,
   "metadata": {
    "tags": []
   },
   "outputs": [
    {
     "data": {
      "text/html": [
       "<div>\n",
       "<style scoped>\n",
       "    .dataframe tbody tr th:only-of-type {\n",
       "        vertical-align: middle;\n",
       "    }\n",
       "\n",
       "    .dataframe tbody tr th {\n",
       "        vertical-align: top;\n",
       "    }\n",
       "\n",
       "    .dataframe thead th {\n",
       "        text-align: right;\n",
       "    }\n",
       "</style>\n",
       "<table border=\"1\" class=\"dataframe\">\n",
       "  <thead>\n",
       "    <tr style=\"text-align: right;\">\n",
       "      <th></th>\n",
       "      <th>experiment</th>\n",
       "      <th>accuracy</th>\n",
       "      <th>f1</th>\n",
       "      <th>acc_hard</th>\n",
       "      <th>f1_hard</th>\n",
       "    </tr>\n",
       "  </thead>\n",
       "  <tbody>\n",
       "    <tr>\n",
       "      <th>0</th>\n",
       "      <td>finetune</td>\n",
       "      <td>0.773265</td>\n",
       "      <td>0.679214</td>\n",
       "      <td>0.783155</td>\n",
       "      <td>0.789308</td>\n",
       "    </tr>\n",
       "    <tr>\n",
       "      <th>1</th>\n",
       "      <td>finetune</td>\n",
       "      <td>0.771658</td>\n",
       "      <td>0.672881</td>\n",
       "      <td>0.779679</td>\n",
       "      <td>0.787832</td>\n",
       "    </tr>\n",
       "    <tr>\n",
       "      <th>2</th>\n",
       "      <td>finetune</td>\n",
       "      <td>0.738568</td>\n",
       "      <td>0.664164</td>\n",
       "      <td>0.698529</td>\n",
       "      <td>0.751786</td>\n",
       "    </tr>\n",
       "    <tr>\n",
       "      <th>3</th>\n",
       "      <td>finetune</td>\n",
       "      <td>0.773850</td>\n",
       "      <td>0.673156</td>\n",
       "      <td>0.774733</td>\n",
       "      <td>0.788734</td>\n",
       "    </tr>\n",
       "    <tr>\n",
       "      <th>4</th>\n",
       "      <td>finetune</td>\n",
       "      <td>0.730972</td>\n",
       "      <td>0.646564</td>\n",
       "      <td>0.682086</td>\n",
       "      <td>0.745264</td>\n",
       "    </tr>\n",
       "    <tr>\n",
       "      <th>5</th>\n",
       "      <td>finetune</td>\n",
       "      <td>0.780278</td>\n",
       "      <td>0.679008</td>\n",
       "      <td>0.815374</td>\n",
       "      <td>0.795863</td>\n",
       "    </tr>\n",
       "    <tr>\n",
       "      <th>6</th>\n",
       "      <td>finetune</td>\n",
       "      <td>0.767348</td>\n",
       "      <td>0.661498</td>\n",
       "      <td>0.776337</td>\n",
       "      <td>0.784371</td>\n",
       "    </tr>\n",
       "    <tr>\n",
       "      <th>7</th>\n",
       "      <td>finetune</td>\n",
       "      <td>0.788824</td>\n",
       "      <td>0.704074</td>\n",
       "      <td>0.813102</td>\n",
       "      <td>0.806227</td>\n",
       "    </tr>\n",
       "    <tr>\n",
       "      <th>8</th>\n",
       "      <td>finetune</td>\n",
       "      <td>0.759313</td>\n",
       "      <td>0.673905</td>\n",
       "      <td>0.749733</td>\n",
       "      <td>0.773306</td>\n",
       "    </tr>\n",
       "    <tr>\n",
       "      <th>9</th>\n",
       "      <td>finetune</td>\n",
       "      <td>0.780862</td>\n",
       "      <td>0.699019</td>\n",
       "      <td>0.774866</td>\n",
       "      <td>0.794109</td>\n",
       "    </tr>\n",
       "  </tbody>\n",
       "</table>\n",
       "</div>"
      ],
      "text/plain": [
       "  experiment  accuracy        f1  acc_hard   f1_hard\n",
       "0   finetune  0.773265  0.679214  0.783155  0.789308\n",
       "1   finetune  0.771658  0.672881  0.779679  0.787832\n",
       "2   finetune  0.738568  0.664164  0.698529  0.751786\n",
       "3   finetune  0.773850  0.673156  0.774733  0.788734\n",
       "4   finetune  0.730972  0.646564  0.682086  0.745264\n",
       "5   finetune  0.780278  0.679008  0.815374  0.795863\n",
       "6   finetune  0.767348  0.661498  0.776337  0.784371\n",
       "7   finetune  0.788824  0.704074  0.813102  0.806227\n",
       "8   finetune  0.759313  0.673905  0.749733  0.773306\n",
       "9   finetune  0.780862  0.699019  0.774866  0.794109"
      ]
     },
     "execution_count": 80,
     "metadata": {},
     "output_type": "execute_result"
    }
   ],
   "source": [
    "pd.DataFrame({'experiment':experiment, 'accuracy':accs, 'f1':f1s, 'acc_hard':accs_hard, 'f1_hard':f1s_hard})"
   ]
  },
  {
   "cell_type": "code",
   "execution_count": 81,
   "metadata": {
    "tags": []
   },
   "outputs": [],
   "source": [
    "pd.DataFrame({'experiment':experiment, 'accuracy':accs, 'f1':f1s, 'acc_hard':accs_hard, 'f1_hard':f1s_hard}).to_csv(\"outputs/finetuning_n10_shuffledata_final_metrics.csv\")"
   ]
  },
  {
   "cell_type": "code",
   "execution_count": 40,
   "metadata": {},
   "outputs": [],
   "source": [
    "# ran nog2v and nopretrain in separate notebooks so that would be quicker -- collate results\n",
    "res_ft = pd.read_csv(\"outputs/finetuning_n10_shuffledata_final_metrics.csv\")\n",
    "res_nog2v = pd.read_csv(\"outputs/finetuning_nog2v_n10_shuffledata_final_metrics.csv\")\n",
    "res_nopretraining = pd.read_csv(\"outputs/finetuning_nopretrain_n10_shuffledata_final_metrics.csv\")\n",
    "\n",
    "#concatenate\n",
    "res = pd.concat([res_ft, res_nog2v, res_nopretraining])\n",
    "res.drop(columns=['Unnamed: 0'], inplace=True)\n",
    "res['model'] = finetune_model_list + sampleff_frac1_list + nog2v_model_list + no_pretraining_model_list\n",
    "res = res.reset_index().drop(columns=\"index\")"
   ]
  },
  {
   "cell_type": "code",
   "execution_count": 83,
   "metadata": {
    "tags": []
   },
   "outputs": [
    {
     "data": {
      "text/html": [
       "<div>\n",
       "<style scoped>\n",
       "    .dataframe tbody tr th:only-of-type {\n",
       "        vertical-align: middle;\n",
       "    }\n",
       "\n",
       "    .dataframe tbody tr th {\n",
       "        vertical-align: top;\n",
       "    }\n",
       "\n",
       "    .dataframe thead th {\n",
       "        text-align: right;\n",
       "    }\n",
       "</style>\n",
       "<table border=\"1\" class=\"dataframe\">\n",
       "  <thead>\n",
       "    <tr style=\"text-align: right;\">\n",
       "      <th></th>\n",
       "      <th>experiment</th>\n",
       "      <th>accuracy</th>\n",
       "      <th>f1</th>\n",
       "      <th>acc_hard</th>\n",
       "      <th>f1_hard</th>\n",
       "      <th>model</th>\n",
       "    </tr>\n",
       "  </thead>\n",
       "  <tbody>\n",
       "    <tr>\n",
       "      <th>0</th>\n",
       "      <td>finetune</td>\n",
       "      <td>0.773265</td>\n",
       "      <td>0.679214</td>\n",
       "      <td>0.783155</td>\n",
       "      <td>0.789308</td>\n",
       "      <td>finetune_shuffledataseedwise_seed1000</td>\n",
       "    </tr>\n",
       "    <tr>\n",
       "      <th>1</th>\n",
       "      <td>finetune</td>\n",
       "      <td>0.771658</td>\n",
       "      <td>0.672881</td>\n",
       "      <td>0.779679</td>\n",
       "      <td>0.787832</td>\n",
       "      <td>finetune_shuffledataseedwise_seed2000</td>\n",
       "    </tr>\n",
       "    <tr>\n",
       "      <th>2</th>\n",
       "      <td>finetune</td>\n",
       "      <td>0.738568</td>\n",
       "      <td>0.664164</td>\n",
       "      <td>0.698529</td>\n",
       "      <td>0.751786</td>\n",
       "      <td>finetune_shuffledataseedwise_seed3000</td>\n",
       "    </tr>\n",
       "    <tr>\n",
       "      <th>3</th>\n",
       "      <td>finetune</td>\n",
       "      <td>0.773850</td>\n",
       "      <td>0.673156</td>\n",
       "      <td>0.774733</td>\n",
       "      <td>0.788734</td>\n",
       "      <td>finetune_shuffledataseedwise_seed4000</td>\n",
       "    </tr>\n",
       "    <tr>\n",
       "      <th>4</th>\n",
       "      <td>finetune</td>\n",
       "      <td>0.730972</td>\n",
       "      <td>0.646564</td>\n",
       "      <td>0.682086</td>\n",
       "      <td>0.745264</td>\n",
       "      <td>finetune_shuffledataseedwise_seed2021</td>\n",
       "    </tr>\n",
       "    <tr>\n",
       "      <th>5</th>\n",
       "      <td>finetune</td>\n",
       "      <td>0.780278</td>\n",
       "      <td>0.679008</td>\n",
       "      <td>0.815374</td>\n",
       "      <td>0.795863</td>\n",
       "      <td>finetune_shuffledataseedwise_seed2022</td>\n",
       "    </tr>\n",
       "    <tr>\n",
       "      <th>6</th>\n",
       "      <td>finetune</td>\n",
       "      <td>0.767348</td>\n",
       "      <td>0.661498</td>\n",
       "      <td>0.776337</td>\n",
       "      <td>0.784371</td>\n",
       "      <td>finetune_shuffledataseedwise_seed2023</td>\n",
       "    </tr>\n",
       "    <tr>\n",
       "      <th>7</th>\n",
       "      <td>finetune</td>\n",
       "      <td>0.788824</td>\n",
       "      <td>0.704074</td>\n",
       "      <td>0.813102</td>\n",
       "      <td>0.806227</td>\n",
       "      <td>finetune-sampleeff-2023-Aug-31-23:37:02/finetu...</td>\n",
       "    </tr>\n",
       "    <tr>\n",
       "      <th>8</th>\n",
       "      <td>finetune</td>\n",
       "      <td>0.759313</td>\n",
       "      <td>0.673905</td>\n",
       "      <td>0.749733</td>\n",
       "      <td>0.773306</td>\n",
       "      <td>finetune-sampleeff-2023-Aug-31-23:37:02/finetu...</td>\n",
       "    </tr>\n",
       "    <tr>\n",
       "      <th>9</th>\n",
       "      <td>finetune</td>\n",
       "      <td>0.780862</td>\n",
       "      <td>0.699019</td>\n",
       "      <td>0.774866</td>\n",
       "      <td>0.794109</td>\n",
       "      <td>finetune-sampleeff-2023-Aug-31-23:37:02/finetu...</td>\n",
       "    </tr>\n",
       "    <tr>\n",
       "      <th>10</th>\n",
       "      <td>no_g2v</td>\n",
       "      <td>0.627977</td>\n",
       "      <td>0.518880</td>\n",
       "      <td>0.628209</td>\n",
       "      <td>0.626215</td>\n",
       "      <td>finetune_nog2v_shuffledataseedwise_seed1000</td>\n",
       "    </tr>\n",
       "    <tr>\n",
       "      <th>11</th>\n",
       "      <td>no_g2v</td>\n",
       "      <td>0.603944</td>\n",
       "      <td>0.525283</td>\n",
       "      <td>0.585294</td>\n",
       "      <td>0.598451</td>\n",
       "      <td>finetune_nog2v_shuffledataseedwise_seed2000</td>\n",
       "    </tr>\n",
       "    <tr>\n",
       "      <th>12</th>\n",
       "      <td>no_g2v</td>\n",
       "      <td>0.669248</td>\n",
       "      <td>0.548884</td>\n",
       "      <td>0.668850</td>\n",
       "      <td>0.661015</td>\n",
       "      <td>finetune_nog2v_shuffledataseedwise_seed3000</td>\n",
       "    </tr>\n",
       "    <tr>\n",
       "      <th>13</th>\n",
       "      <td>no_g2v</td>\n",
       "      <td>0.640614</td>\n",
       "      <td>0.503765</td>\n",
       "      <td>0.687032</td>\n",
       "      <td>0.647867</td>\n",
       "      <td>finetune_nog2v_shuffledataseedwise_seed4000</td>\n",
       "    </tr>\n",
       "    <tr>\n",
       "      <th>14</th>\n",
       "      <td>no_g2v</td>\n",
       "      <td>0.748210</td>\n",
       "      <td>0.649530</td>\n",
       "      <td>0.758957</td>\n",
       "      <td>0.762759</td>\n",
       "      <td>finetune_nog2v_shuffledataseedwise_seed0</td>\n",
       "    </tr>\n",
       "    <tr>\n",
       "      <th>15</th>\n",
       "      <td>no_g2v</td>\n",
       "      <td>0.739299</td>\n",
       "      <td>0.631552</td>\n",
       "      <td>0.770187</td>\n",
       "      <td>0.761351</td>\n",
       "      <td>finetune_nog2v_shuffledataseedwise_seed5000</td>\n",
       "    </tr>\n",
       "    <tr>\n",
       "      <th>16</th>\n",
       "      <td>no_g2v</td>\n",
       "      <td>0.742732</td>\n",
       "      <td>0.643201</td>\n",
       "      <td>0.744385</td>\n",
       "      <td>0.757676</td>\n",
       "      <td>finetune_nog2v_shuffledataseedwise_seed10000</td>\n",
       "    </tr>\n",
       "    <tr>\n",
       "      <th>17</th>\n",
       "      <td>no_g2v</td>\n",
       "      <td>0.746238</td>\n",
       "      <td>0.634095</td>\n",
       "      <td>0.758021</td>\n",
       "      <td>0.757234</td>\n",
       "      <td>finetune_nog2v_shuffledataseedwise_seed2021</td>\n",
       "    </tr>\n",
       "    <tr>\n",
       "      <th>18</th>\n",
       "      <td>no_g2v</td>\n",
       "      <td>0.750621</td>\n",
       "      <td>0.648442</td>\n",
       "      <td>0.770722</td>\n",
       "      <td>0.764623</td>\n",
       "      <td>finetune_nog2v_shuffledataseedwise_seed2022</td>\n",
       "    </tr>\n",
       "    <tr>\n",
       "      <th>19</th>\n",
       "      <td>no_g2v</td>\n",
       "      <td>0.743608</td>\n",
       "      <td>0.642075</td>\n",
       "      <td>0.766043</td>\n",
       "      <td>0.753522</td>\n",
       "      <td>finetune_nog2v_shuffledataseedwise_seed2023</td>\n",
       "    </tr>\n",
       "    <tr>\n",
       "      <th>20</th>\n",
       "      <td>no_pretraining</td>\n",
       "      <td>0.774872</td>\n",
       "      <td>0.694254</td>\n",
       "      <td>0.791578</td>\n",
       "      <td>0.791863</td>\n",
       "      <td>finetune_nopretraining_shuffledataseedwise_see...</td>\n",
       "    </tr>\n",
       "    <tr>\n",
       "      <th>21</th>\n",
       "      <td>no_pretraining</td>\n",
       "      <td>0.772243</td>\n",
       "      <td>0.680846</td>\n",
       "      <td>0.777005</td>\n",
       "      <td>0.788806</td>\n",
       "      <td>finetune_nopretraining_shuffledataseedwise_see...</td>\n",
       "    </tr>\n",
       "    <tr>\n",
       "      <th>22</th>\n",
       "      <td>no_pretraining</td>\n",
       "      <td>0.735427</td>\n",
       "      <td>0.665822</td>\n",
       "      <td>0.695722</td>\n",
       "      <td>0.750597</td>\n",
       "      <td>finetune_nopretraining_shuffledataseedwise_see...</td>\n",
       "    </tr>\n",
       "    <tr>\n",
       "      <th>23</th>\n",
       "      <td>no_pretraining</td>\n",
       "      <td>0.737546</td>\n",
       "      <td>0.665863</td>\n",
       "      <td>0.704278</td>\n",
       "      <td>0.749148</td>\n",
       "      <td>finetune_nopretraining_shuffledataseedwise_see...</td>\n",
       "    </tr>\n",
       "    <tr>\n",
       "      <th>24</th>\n",
       "      <td>no_pretraining</td>\n",
       "      <td>0.770051</td>\n",
       "      <td>0.666483</td>\n",
       "      <td>0.792647</td>\n",
       "      <td>0.790266</td>\n",
       "      <td>finetune_nopretraining_shuffledataseedwise_seed0</td>\n",
       "    </tr>\n",
       "    <tr>\n",
       "      <th>25</th>\n",
       "      <td>no_pretraining</td>\n",
       "      <td>0.739737</td>\n",
       "      <td>0.664911</td>\n",
       "      <td>0.728743</td>\n",
       "      <td>0.749744</td>\n",
       "      <td>finetune_nopretraining_shuffledataseedwise_see...</td>\n",
       "    </tr>\n",
       "    <tr>\n",
       "      <th>26</th>\n",
       "      <td>no_pretraining</td>\n",
       "      <td>0.727538</td>\n",
       "      <td>0.668378</td>\n",
       "      <td>0.663503</td>\n",
       "      <td>0.734399</td>\n",
       "      <td>finetune_nopretraining_shuffledataseedwise_see...</td>\n",
       "    </tr>\n",
       "    <tr>\n",
       "      <th>27</th>\n",
       "      <td>no_pretraining</td>\n",
       "      <td>0.777648</td>\n",
       "      <td>0.670851</td>\n",
       "      <td>0.803075</td>\n",
       "      <td>0.793973</td>\n",
       "      <td>finetune_nopretraining_shuffledataseedwise_see...</td>\n",
       "    </tr>\n",
       "    <tr>\n",
       "      <th>28</th>\n",
       "      <td>no_pretraining</td>\n",
       "      <td>0.771731</td>\n",
       "      <td>0.675579</td>\n",
       "      <td>0.774599</td>\n",
       "      <td>0.787474</td>\n",
       "      <td>finetune_nopretraining_shuffledataseedwise_see...</td>\n",
       "    </tr>\n",
       "    <tr>\n",
       "      <th>29</th>\n",
       "      <td>no_pretraining</td>\n",
       "      <td>0.771950</td>\n",
       "      <td>0.666242</td>\n",
       "      <td>0.806818</td>\n",
       "      <td>0.785737</td>\n",
       "      <td>finetune_nopretraining_shuffledataseedwise_see...</td>\n",
       "    </tr>\n",
       "  </tbody>\n",
       "</table>\n",
       "</div>"
      ],
      "text/plain": [
       "        experiment  accuracy        f1  acc_hard   f1_hard  \\\n",
       "0         finetune  0.773265  0.679214  0.783155  0.789308   \n",
       "1         finetune  0.771658  0.672881  0.779679  0.787832   \n",
       "2         finetune  0.738568  0.664164  0.698529  0.751786   \n",
       "3         finetune  0.773850  0.673156  0.774733  0.788734   \n",
       "4         finetune  0.730972  0.646564  0.682086  0.745264   \n",
       "5         finetune  0.780278  0.679008  0.815374  0.795863   \n",
       "6         finetune  0.767348  0.661498  0.776337  0.784371   \n",
       "7         finetune  0.788824  0.704074  0.813102  0.806227   \n",
       "8         finetune  0.759313  0.673905  0.749733  0.773306   \n",
       "9         finetune  0.780862  0.699019  0.774866  0.794109   \n",
       "10          no_g2v  0.627977  0.518880  0.628209  0.626215   \n",
       "11          no_g2v  0.603944  0.525283  0.585294  0.598451   \n",
       "12          no_g2v  0.669248  0.548884  0.668850  0.661015   \n",
       "13          no_g2v  0.640614  0.503765  0.687032  0.647867   \n",
       "14          no_g2v  0.748210  0.649530  0.758957  0.762759   \n",
       "15          no_g2v  0.739299  0.631552  0.770187  0.761351   \n",
       "16          no_g2v  0.742732  0.643201  0.744385  0.757676   \n",
       "17          no_g2v  0.746238  0.634095  0.758021  0.757234   \n",
       "18          no_g2v  0.750621  0.648442  0.770722  0.764623   \n",
       "19          no_g2v  0.743608  0.642075  0.766043  0.753522   \n",
       "20  no_pretraining  0.774872  0.694254  0.791578  0.791863   \n",
       "21  no_pretraining  0.772243  0.680846  0.777005  0.788806   \n",
       "22  no_pretraining  0.735427  0.665822  0.695722  0.750597   \n",
       "23  no_pretraining  0.737546  0.665863  0.704278  0.749148   \n",
       "24  no_pretraining  0.770051  0.666483  0.792647  0.790266   \n",
       "25  no_pretraining  0.739737  0.664911  0.728743  0.749744   \n",
       "26  no_pretraining  0.727538  0.668378  0.663503  0.734399   \n",
       "27  no_pretraining  0.777648  0.670851  0.803075  0.793973   \n",
       "28  no_pretraining  0.771731  0.675579  0.774599  0.787474   \n",
       "29  no_pretraining  0.771950  0.666242  0.806818  0.785737   \n",
       "\n",
       "                                                model  \n",
       "0               finetune_shuffledataseedwise_seed1000  \n",
       "1               finetune_shuffledataseedwise_seed2000  \n",
       "2               finetune_shuffledataseedwise_seed3000  \n",
       "3               finetune_shuffledataseedwise_seed4000  \n",
       "4               finetune_shuffledataseedwise_seed2021  \n",
       "5               finetune_shuffledataseedwise_seed2022  \n",
       "6               finetune_shuffledataseedwise_seed2023  \n",
       "7   finetune-sampleeff-2023-Aug-31-23:37:02/finetu...  \n",
       "8   finetune-sampleeff-2023-Aug-31-23:37:02/finetu...  \n",
       "9   finetune-sampleeff-2023-Aug-31-23:37:02/finetu...  \n",
       "10        finetune_nog2v_shuffledataseedwise_seed1000  \n",
       "11        finetune_nog2v_shuffledataseedwise_seed2000  \n",
       "12        finetune_nog2v_shuffledataseedwise_seed3000  \n",
       "13        finetune_nog2v_shuffledataseedwise_seed4000  \n",
       "14           finetune_nog2v_shuffledataseedwise_seed0  \n",
       "15        finetune_nog2v_shuffledataseedwise_seed5000  \n",
       "16       finetune_nog2v_shuffledataseedwise_seed10000  \n",
       "17        finetune_nog2v_shuffledataseedwise_seed2021  \n",
       "18        finetune_nog2v_shuffledataseedwise_seed2022  \n",
       "19        finetune_nog2v_shuffledataseedwise_seed2023  \n",
       "20  finetune_nopretraining_shuffledataseedwise_see...  \n",
       "21  finetune_nopretraining_shuffledataseedwise_see...  \n",
       "22  finetune_nopretraining_shuffledataseedwise_see...  \n",
       "23  finetune_nopretraining_shuffledataseedwise_see...  \n",
       "24   finetune_nopretraining_shuffledataseedwise_seed0  \n",
       "25  finetune_nopretraining_shuffledataseedwise_see...  \n",
       "26  finetune_nopretraining_shuffledataseedwise_see...  \n",
       "27  finetune_nopretraining_shuffledataseedwise_see...  \n",
       "28  finetune_nopretraining_shuffledataseedwise_see...  \n",
       "29  finetune_nopretraining_shuffledataseedwise_see...  "
      ]
     },
     "execution_count": 83,
     "metadata": {},
     "output_type": "execute_result"
    }
   ],
   "source": [
    "res"
   ]
  },
  {
   "cell_type": "code",
   "execution_count": 41,
   "metadata": {
    "tags": []
   },
   "outputs": [],
   "source": [
    "#reference for calculating confidence intervals with small dataset https://sphweb.bumc.bu.edu/otlt/MPH-Modules/PH717-QuantCore/PH717-Module6-RandomError/PH717-Module6-RandomError11.html#:~:text=However%2C%20when%20you%20want%20to,heavily%20on%20the%20t%2Ddistribution.\n",
    "def calc_95_ci_10samples(values):\n",
    "    return np.std(values) / np.sqrt(len(values)) * 2.262"
   ]
  },
  {
   "cell_type": "code",
   "execution_count": 85,
   "metadata": {
    "tags": []
   },
   "outputs": [
    {
     "name": "stdout",
     "output_type": "stream",
     "text": [
      "accuracy 0.7664937910883856\n",
      "95% CI accuracy 0.012626045570591682\n",
      "f1 0.6753481122129038\n",
      "95% CI f1 0.011472237256470699\n"
     ]
    }
   ],
   "source": [
    "# scBERT reproduced metrics\n",
    "print(\"accuracy\", res[res.experiment == 'finetune'].accuracy.mean())\n",
    "print(\"95% CI accuracy\", calc_95_ci_10samples(res[res.experiment == 'finetune'].accuracy))\n",
    "print(\"f1\", res[res.experiment == 'finetune'].f1.mean())\n",
    "print(\"95% CI f1\", calc_95_ci_10samples(res[res.experiment == 'finetune'].f1))"
   ]
  },
  {
   "cell_type": "code",
   "execution_count": 86,
   "metadata": {
    "tags": []
   },
   "outputs": [
    {
     "name": "stdout",
     "output_type": "stream",
     "text": [
      "accuracy 0.7012490869247626\n",
      "95% CI accuracy 0.03993417892856087\n",
      "f1 0.5945706463907828\n",
      "95% CI f1 0.04191533795749718\n"
     ]
    }
   ],
   "source": [
    "# scBERT no g2v metrics\n",
    "print(\"accuracy\", res[res.experiment == 'no_g2v'].accuracy.mean())\n",
    "print(\"95% CI accuracy\", calc_95_ci_10samples(res[res.experiment == 'no_g2v'].accuracy))\n",
    "print(\"f1\", res[res.experiment == 'no_g2v'].f1.mean())\n",
    "print(\"95% CI f1\", calc_95_ci_10samples(res[res.experiment == 'no_g2v'].f1))"
   ]
  },
  {
   "cell_type": "code",
   "execution_count": 87,
   "metadata": {},
   "outputs": [
    {
     "name": "stdout",
     "output_type": "stream",
     "text": [
      "accuracy 0.7578743608473338\n",
      "95% CI accuracy 0.013555295123394498\n",
      "f1 0.6719229468422391\n",
      "95% CI f1 0.006359236659658663\n"
     ]
    }
   ],
   "source": [
    "# scBERT no pretraining metrics\n",
    "print(\"accuracy\", res[res.experiment == 'no_pretraining'].accuracy.mean())\n",
    "print(\"95% CI accuracy\", calc_95_ci_10samples(res[res.experiment == 'no_pretraining'].accuracy))\n",
    "print(\"f1\", res[res.experiment == 'no_pretraining'].f1.mean())\n",
    "print(\"95% CI f1\", calc_95_ci_10samples(res[res.experiment == 'no_pretraining'].f1))"
   ]
  },
  {
   "cell_type": "code",
   "execution_count": 64,
   "metadata": {
    "tags": []
   },
   "outputs": [
    {
     "name": "stdout",
     "output_type": "stream",
     "text": [
      "t-test for difference in accuracy between finetune and no_g2v\n",
      "Ttest_indResult(statistic=3.3363061867867634, pvalue=0.0036744992642910456)\n",
      "t-test for difference in f1 between finetune and no_g2v\n",
      "Ttest_indResult(statistic=3.9832414019364695, pvalue=0.0008717702199745173)\n",
      "\n",
      "\n",
      "t-test for difference in accuracy between finetune and no_pretraining\n",
      "Ttest_indResult(statistic=0.9854250975229971, pvalue=0.3374768950301721)\n",
      "t-test for difference in f1 between finetune and no_pretraining\n",
      "Ttest_indResult(statistic=0.5476564849638882, pvalue=0.5906548499112718)\n"
     ]
    }
   ],
   "source": [
    "# t-tests\n",
    "print(\"t-test for difference in accuracy between finetune and no_g2v\")\n",
    "print(scipy.stats.ttest_ind(res[res.experiment == 'finetune'].accuracy, res[res.experiment == 'no_g2v'].accuracy))\n",
    "\n",
    "print(\"t-test for difference in f1 between finetune and no_g2v\")\n",
    "print(scipy.stats.ttest_ind(res[res.experiment == 'finetune'].f1, res[res.experiment == 'no_g2v'].f1))\n",
    "\n",
    "print(\"\\n\")\n",
    "\n",
    "print(\"t-test for difference in accuracy between finetune and no_pretraining\")\n",
    "print(scipy.stats.ttest_ind(res[res.experiment == 'finetune'].accuracy, res[res.experiment == 'no_pretraining'].accuracy))\n",
    "\n",
    "print(\"t-test for difference in f1 between finetune and no_pretraining\")\n",
    "print(scipy.stats.ttest_ind(res[res.experiment == 'finetune'].f1, res[res.experiment == 'no_pretraining'].f1))"
   ]
  },
  {
   "cell_type": "code",
   "execution_count": 67,
   "metadata": {
    "tags": []
   },
   "outputs": [
    {
     "data": {
      "text/plain": [
       "<AxesSubplot:xlabel='experiment', ylabel='accuracy'>"
      ]
     },
     "execution_count": 67,
     "metadata": {},
     "output_type": "execute_result"
    },
    {
     "data": {
      "image/png": "[encoded data removed]",
      "text/plain": [
       "<Figure size 432x288 with 1 Axes>"
      ]
     },
     "metadata": {
      "needs_background": "light"
     },
     "output_type": "display_data"
    }
   ],
   "source": [
    "sns.stripplot(data=res, x=\"experiment\", y=\"accuracy\")"
   ]
  },
  {
   "cell_type": "markdown",
   "metadata": {},
   "source": [
    "### results on \"hard to predict\" cells"
   ]
  },
  {
   "cell_type": "code",
   "execution_count": 68,
   "metadata": {
    "tags": []
   },
   "outputs": [
    {
     "data": {
      "text/plain": [
       "<AxesSubplot:xlabel='experiment', ylabel='acc_hard'>"
      ]
     },
     "execution_count": 68,
     "metadata": {},
     "output_type": "execute_result"
    },
    {
     "data": {
      "image/png": "[encoded data removed]",
      "text/plain": [
       "<Figure size 432x288 with 1 Axes>"
      ]
     },
     "metadata": {
      "needs_background": "light"
     },
     "output_type": "display_data"
    }
   ],
   "source": [
    "sns.stripplot(data=res, x=\"experiment\", y=\"acc_hard\")"
   ]
  },
  {
   "cell_type": "code",
   "execution_count": 90,
   "metadata": {
    "tags": []
   },
   "outputs": [
    {
     "name": "stdout",
     "output_type": "stream",
     "text": [
      "accuracy 0.7647593582887702\n",
      "95% CI accuracy 0.029702628612152265\n",
      "f1 0.7816800762766779\n",
      "95% CI f1 0.01319169765115049\n"
     ]
    }
   ],
   "source": [
    "# scBERT reproduced metrics\n",
    "print(\"accuracy\", res[res.experiment == 'finetune'].acc_hard.mean())\n",
    "print(\"95% CI accuracy\", calc_95_ci_10samples(res[res.experiment == 'finetune'].acc_hard))\n",
    "print(\"f1\", res[res.experiment == 'finetune'].f1_hard.mean())\n",
    "print(\"95% CI f1\", calc_95_ci_10samples(res[res.experiment == 'finetune'].f1_hard))"
   ]
  },
  {
   "cell_type": "code",
   "execution_count": 89,
   "metadata": {
    "tags": []
   },
   "outputs": [
    {
     "name": "stdout",
     "output_type": "stream",
     "text": [
      "accuracy 0.7137700534759357\n",
      "95% CI accuracy 0.04560930436139858\n",
      "f1 0.7090712417439384\n",
      "95% CI f1 0.045531364747484204\n"
     ]
    }
   ],
   "source": [
    "# scBERT no g2v metrics\n",
    "print(\"accuracy\", res[res.experiment == 'no_g2v'].acc_hard.mean())\n",
    "print(\"95% CI accuracy\", calc_95_ci_10samples(res[res.experiment == 'no_g2v'].acc_hard))\n",
    "print(\"f1\", res[res.experiment == 'no_g2v'].f1_hard.mean())\n",
    "print(\"95% CI f1\", calc_95_ci_10samples(res[res.experiment == 'no_g2v'].f1_hard))"
   ]
  },
  {
   "cell_type": "code",
   "execution_count": 88,
   "metadata": {},
   "outputs": [
    {
     "name": "stdout",
     "output_type": "stream",
     "text": [
      "accuracy 0.7537967914438503\n",
      "95% CI accuracy 0.03486210114378854\n",
      "f1 0.7722006588576715\n",
      "95% CI f1 0.015689108962724744\n"
     ]
    }
   ],
   "source": [
    "# scBERT no pretraining metrics\n",
    "print(\"accuracy\", res[res.experiment == 'no_pretraining'].acc_hard.mean())\n",
    "print(\"95% CI accuracy\", calc_95_ci_10samples(res[res.experiment == 'no_pretraining'].acc_hard))\n",
    "print(\"f1\", res[res.experiment == 'no_pretraining'].f1_hard.mean())\n",
    "print(\"95% CI f1\", calc_95_ci_10samples(res[res.experiment == 'no_pretraining'].f1_hard))"
   ]
  },
  {
   "cell_type": "code",
   "execution_count": 91,
   "metadata": {
    "tags": []
   },
   "outputs": [
    {
     "name": "stdout",
     "output_type": "stream",
     "text": [
      "t-test for difference in accuracy between finetune and no_g2v\n",
      "Ttest_indResult(statistic=2.010328735354663, pvalue=0.059624286138472676)\n",
      "t-test for difference in f1 between finetune and no_g2v\n",
      "Ttest_indResult(statistic=3.2869235477372825, pvalue=0.004097870729776195)\n",
      "\n",
      "\n",
      "t-test for difference in accuracy between finetune and no_pretraining\n",
      "Ttest_indResult(statistic=0.5136455208473122, pvalue=0.6137473808085099)\n",
      "t-test for difference in f1 between finetune and no_pretraining\n",
      "Ttest_indResult(statistic=0.9923925272382635, pvalue=0.33416019300929245)\n"
     ]
    }
   ],
   "source": [
    "# t-tests\n",
    "print(\"t-test for difference in accuracy between finetune and no_g2v\")\n",
    "print(scipy.stats.ttest_ind(res[res.experiment == 'finetune'].acc_hard, res[res.experiment == 'no_g2v'].acc_hard))\n",
    "\n",
    "print(\"t-test for difference in f1 between finetune and no_g2v\")\n",
    "print(scipy.stats.ttest_ind(res[res.experiment == 'finetune'].f1_hard, res[res.experiment == 'no_g2v'].f1_hard))\n",
    "\n",
    "print(\"\\n\")\n",
    "\n",
    "print(\"t-test for difference in accuracy between finetune and no_pretraining\")\n",
    "print(scipy.stats.ttest_ind(res[res.experiment == 'finetune'].acc_hard, res[res.experiment == 'no_pretraining'].acc_hard))\n",
    "\n",
    "print(\"t-test for difference in f1 between finetune and no_pretraining\")\n",
    "print(scipy.stats.ttest_ind(res[res.experiment == 'finetune'].f1_hard, res[res.experiment == 'no_pretraining'].f1_hard))"
   ]
  },
  {
   "cell_type": "markdown",
   "metadata": {},
   "source": [
    "# sample efficiency (\"few-shot\") results"
   ]
  },
  {
   "cell_type": "code",
   "execution_count": 87,
   "metadata": {
    "tags": []
   },
   "outputs": [],
   "source": [
    "os.environ[\"CUDA_VISIBLE_DEVICES\"]=\"2\"\n",
    "torch.cuda.is_available()\n",
    "world_size = torch.cuda.device_count()"
   ]
  },
  {
   "cell_type": "code",
   "execution_count": 3,
   "metadata": {
    "tags": []
   },
   "outputs": [],
   "source": [
    "sampleeff_model_paths = glob.glob('ckpts/finetune-sampleeff-2023-Aug-31-23:37:02/*/*best.pth')"
   ]
  },
  {
   "cell_type": "code",
   "execution_count": 4,
   "metadata": {
    "tags": []
   },
   "outputs": [
    {
     "data": {
      "text/plain": [
       "['ckpts/finetune-sampleeff-2023-Aug-31-23:37:02/finetune_sampleeff_0.5_1/finetune_sampleeff_0.5_1_best.pth',\n",
       " 'ckpts/finetune-sampleeff-2023-Aug-31-23:37:02/finetune_sampleeff_0.25_2/finetune_sampleeff_0.25_2_best.pth',\n",
       " 'ckpts/finetune-sampleeff-2023-Aug-31-23:37:02/finetune_sampleeff_1.0_0/finetune_sampleeff_1.0_0_best.pth',\n",
       " 'ckpts/finetune-sampleeff-2023-Aug-31-23:37:02/finetune_sampleeff_0.75_1/finetune_sampleeff_0.75_1_best.pth',\n",
       " 'ckpts/finetune-sampleeff-2023-Aug-31-23:37:02/finetune_sampleeff_0.5_2/finetune_sampleeff_0.5_2_best.pth',\n",
       " 'ckpts/finetune-sampleeff-2023-Aug-31-23:37:02/finetune_sampleeff_0.1_0/finetune_sampleeff_0.1_0_best.pth',\n",
       " 'ckpts/finetune-sampleeff-2023-Aug-31-23:37:02/finetune_sampleeff_0.25_1/finetune_sampleeff_0.25_1_best.pth',\n",
       " 'ckpts/finetune-sampleeff-2023-Aug-31-23:37:02/finetune_sampleeff_0.75_2/finetune_sampleeff_0.75_2_best.pth',\n",
       " 'ckpts/finetune-sampleeff-2023-Aug-31-23:37:02/finetune_sampleeff_0.75_0/finetune_sampleeff_0.75_0_best.pth',\n",
       " 'ckpts/finetune-sampleeff-2023-Aug-31-23:37:02/finetune_sampleeff_1.0_1/finetune_sampleeff_1.0_1_best.pth',\n",
       " 'ckpts/finetune-sampleeff-2023-Aug-31-23:37:02/finetune_sampleeff_0.5_0/finetune_sampleeff_0.5_0_best.pth',\n",
       " 'ckpts/finetune-sampleeff-2023-Aug-31-23:37:02/finetune_sampleeff_0.1_2/finetune_sampleeff_0.1_2_best.pth',\n",
       " 'ckpts/finetune-sampleeff-2023-Aug-31-23:37:02/finetune_sampleeff_1.0_2/finetune_sampleeff_1.0_2_best.pth',\n",
       " 'ckpts/finetune-sampleeff-2023-Aug-31-23:37:02/finetune_sampleeff_0.25_0/finetune_sampleeff_0.25_0_best.pth',\n",
       " 'ckpts/finetune-sampleeff-2023-Aug-31-23:37:02/finetune_sampleeff_0.1_1/finetune_sampleeff_0.1_1_best.pth']"
      ]
     },
     "execution_count": 4,
     "metadata": {},
     "output_type": "execute_result"
    }
   ],
   "source": [
    "sampleeff_model_paths"
   ]
  },
  {
   "cell_type": "code",
   "execution_count": 96,
   "metadata": {
    "tags": []
   },
   "outputs": [
    {
     "name": "stdout",
     "output_type": "stream",
     "text": [
      "Loading model: ckpts/finetune-sampleeff-2023-Aug-31-23:37:02/finetune_sampleeff_0.5_1/finetune_sampleeff_0.5_1_best.pth\n",
      "Experiment: finetune_sampleeff_0.5_1\n",
      "Run: 1\n",
      "Fraction: 0.5\n",
      "Val accuracy: 0.735354273192111 || Val F1: 0.6299132294645715\n",
      "\n",
      "\n",
      "Loading model: ckpts/finetune-sampleeff-2023-Aug-31-23:37:02/finetune_sampleeff_0.25_2/finetune_sampleeff_0.25_2_best.pth\n",
      "Experiment: finetune_sampleeff_0.25_2\n",
      "Run: 2\n",
      "Fraction: 0.25\n",
      "Val accuracy: 0.6778670562454346 || Val F1: 0.55810039454442\n",
      "\n",
      "\n",
      "Loading model: ckpts/finetune-sampleeff-2023-Aug-31-23:37:02/finetune_sampleeff_1.0_0/finetune_sampleeff_1.0_0_best.pth\n",
      "Experiment: finetune_sampleeff_1.0_0\n",
      "Run: 0\n",
      "Fraction: 1.0\n",
      "Val accuracy: 0.7892622352081812 || Val F1: 0.7046072236415316\n",
      "\n",
      "\n",
      "Loading model: ckpts/finetune-sampleeff-2023-Aug-31-23:37:02/finetune_sampleeff_0.75_1/finetune_sampleeff_0.75_1_best.pth\n",
      "Experiment: finetune_sampleeff_0.75_1\n",
      "Run: 1\n",
      "Fraction: 0.75\n",
      "Val accuracy: 0.756245434623813 || Val F1: 0.6650647201377757\n",
      "\n",
      "\n",
      "Loading model: ckpts/finetune-sampleeff-2023-Aug-31-23:37:02/finetune_sampleeff_0.5_2/finetune_sampleeff_0.5_2_best.pth\n",
      "Experiment: finetune_sampleeff_0.5_2\n",
      "Run: 2\n",
      "Fraction: 0.5\n",
      "Val accuracy: 0.7179693206720233 || Val F1: 0.6199298416377507\n",
      "\n",
      "\n",
      "Loading model: ckpts/finetune-sampleeff-2023-Aug-31-23:37:02/finetune_sampleeff_0.1_0/finetune_sampleeff_0.1_0_best.pth\n",
      "Experiment: finetune_sampleeff_0.1_0\n",
      "Run: 0\n",
      "Fraction: 0.1\n",
      "Val accuracy: 0.5347699050401753 || Val F1: 0.39725468949716\n",
      "\n",
      "\n",
      "Loading model: ckpts/finetune-sampleeff-2023-Aug-31-23:37:02/finetune_sampleeff_0.25_1/finetune_sampleeff_0.25_1_best.pth\n",
      "Experiment: finetune_sampleeff_0.25_1\n",
      "Run: 1\n",
      "Fraction: 0.25\n",
      "Val accuracy: 0.6963476990504017 || Val F1: 0.587389257459403\n",
      "\n",
      "\n",
      "Loading model: ckpts/finetune-sampleeff-2023-Aug-31-23:37:02/finetune_sampleeff_0.75_2/finetune_sampleeff_0.75_2_best.pth\n",
      "Experiment: finetune_sampleeff_0.75_2\n",
      "Run: 2\n",
      "Fraction: 0.75\n",
      "Val accuracy: 0.7593133674214755 || Val F1: 0.6569421372168878\n",
      "\n",
      "\n",
      "Loading model: ckpts/finetune-sampleeff-2023-Aug-31-23:37:02/finetune_sampleeff_0.75_0/finetune_sampleeff_0.75_0_best.pth\n",
      "Experiment: finetune_sampleeff_0.75_0\n",
      "Run: 0\n",
      "Fraction: 0.75\n",
      "Val accuracy: 0.7412710007304602 || Val F1: 0.6552819089363892\n",
      "\n",
      "\n",
      "Loading model: ckpts/finetune-sampleeff-2023-Aug-31-23:37:02/finetune_sampleeff_1.0_1/finetune_sampleeff_1.0_1_best.pth\n",
      "Experiment: finetune_sampleeff_1.0_1\n",
      "Run: 1\n",
      "Fraction: 1.0\n",
      "Val accuracy: 0.7594594594594595 || Val F1: 0.6747570582492036\n",
      "\n",
      "\n",
      "Loading model: ckpts/finetune-sampleeff-2023-Aug-31-23:37:02/finetune_sampleeff_0.5_0/finetune_sampleeff_0.5_0_best.pth\n",
      "Experiment: finetune_sampleeff_0.5_0\n",
      "Run: 0\n",
      "Fraction: 0.5\n",
      "Val accuracy: 0.7255661066471877 || Val F1: 0.6318919780761131\n",
      "\n",
      "\n",
      "Loading model: ckpts/finetune-sampleeff-2023-Aug-31-23:37:02/finetune_sampleeff_0.1_2/finetune_sampleeff_0.1_2_best.pth\n",
      "Experiment: finetune_sampleeff_0.1_2\n",
      "Run: 2\n",
      "Fraction: 0.1\n",
      "Val accuracy: 0.6794740686632579 || Val F1: 0.5462329679119718\n",
      "\n",
      "\n",
      "Loading model: ckpts/finetune-sampleeff-2023-Aug-31-23:37:02/finetune_sampleeff_1.0_2/finetune_sampleeff_1.0_2_best.pth\n",
      "Experiment: finetune_sampleeff_1.0_2\n",
      "Run: 2\n",
      "Fraction: 1.0\n",
      "Val accuracy: 0.7807158509861213 || Val F1: 0.6989091196832841\n",
      "\n",
      "\n",
      "Loading model: ckpts/finetune-sampleeff-2023-Aug-31-23:37:02/finetune_sampleeff_0.25_0/finetune_sampleeff_0.25_0_best.pth\n",
      "Experiment: finetune_sampleeff_0.25_0\n",
      "Run: 0\n",
      "Fraction: 0.25\n",
      "Val accuracy: 0.7017531044558072 || Val F1: 0.5841780876335424\n",
      "\n",
      "\n",
      "Loading model: ckpts/finetune-sampleeff-2023-Aug-31-23:37:02/finetune_sampleeff_0.1_1/finetune_sampleeff_0.1_1_best.pth\n",
      "Experiment: finetune_sampleeff_0.1_1\n",
      "Run: 1\n",
      "Fraction: 0.1\n",
      "Val accuracy: 0.683418553688824 || Val F1: 0.5453318438151805\n",
      "\n",
      "\n"
     ]
    }
   ],
   "source": [
    "#### reweight for class balance\n",
    "class_weight = torch.tensor([1/x for x in class_num])  #use this simpler weighting\n",
    "loss_fn = nn.CrossEntropyLoss(weight=class_weight).to(device)\n",
    "POS_EMBED_USING = True\n",
    "\n",
    "# load model\n",
    "sampeff_accs = []\n",
    "sampeff_f1s = []\n",
    "sampeff_experiment = []\n",
    "sampeff_frac = []\n",
    "sampeff_run = []\n",
    "for ckpt_path in sampleeff_model_paths:\n",
    "    exp = ckpt_path.split(\"/\")[2]\n",
    "    sampeff_experiment.append(exp)\n",
    "    sampeff_frac.append(exp.split(\"_\")[-2])\n",
    "    sampeff_run.append(exp.split(\"_\")[-1])\n",
    "    print(\"Loading model: {}\".format(ckpt_path))\n",
    "    print(\"Experiment: {}\".format(exp))\n",
    "    print(\"Run: {}\".format(exp.split(\"_\")[-1]))\n",
    "    print(\"Fraction: {}\".format(exp.split(\"_\")[-2]))\n",
    "    model = PerformerLM(\n",
    "        num_tokens = CLASS,\n",
    "        dim = 200,\n",
    "        depth = 6,\n",
    "        max_seq_len = SEQ_LEN,\n",
    "        heads = 10,\n",
    "        local_attn_heads = 0,\n",
    "        g2v_position_emb = POS_EMBED_USING,\n",
    "        g2v_file = G2V_FILE,\n",
    "        pred_continuous = USE_CONTINUOUS,\n",
    "        sin_emb_wavelength = SIN_EMB_WAVELENGTH,\n",
    "    )\n",
    "    model = model.to(device)\n",
    "\n",
    "    # Load checkpoint\n",
    "    checkpoint = torch.load(ckpt_path, map_location=device)\n",
    "    consume_prefix_in_state_dict_if_present(checkpoint['model_state_dict'], \"module.\")\n",
    "    #print(\"Loaded finetuned ckpt...\")\n",
    "    model.to_out = Identity(dropout=0., h_dim=128, out_dim=label_dict.shape[0])\n",
    "    model.load_state_dict(checkpoint['model_state_dict'])\n",
    "    model = model.to(device)    \n",
    "    cur_epoch = checkpoint['epoch']\n",
    "\n",
    "    # model eval\n",
    "    model.eval()\n",
    "    running_loss = 0.0\n",
    "    predictions = []\n",
    "    truths = []\n",
    "    with torch.no_grad():\n",
    "        for index, (data_v, labels_v) in enumerate(val_loader):\n",
    "            index += 1\n",
    "            data_v, labels_v = data_v.to(device), labels_v.to(device)\n",
    "            logits = model(data_v)\n",
    "            loss = loss_fn(logits, labels_v)\n",
    "            running_loss += loss.item()\n",
    "            softmax = nn.Softmax(dim=-1)\n",
    "            final_prob = softmax(logits)\n",
    "            final = final_prob.argmax(dim=-1)\n",
    "            #final[np.amax(np.array(final_prob.cpu()), axis=-1) < UNASSIGN_THRES] = -1\n",
    "            predictions.append(final)\n",
    "            truths.append(labels_v)\n",
    "        del data_v, labels_v, logits, final_prob, final\n",
    "        # gather\n",
    "        predictions = torch.cat(predictions, dim=0)\n",
    "        truths = torch.cat(truths, dim=0)\n",
    "        no_drop = predictions != -1\n",
    "        predictions = np.array((predictions[no_drop]).cpu())\n",
    "        truths = np.array((truths[no_drop]).cpu())\n",
    "        cur_acc = accuracy_score(truths, predictions)\n",
    "        f1 = f1_score(truths, predictions, average='macro')\n",
    "        val_loss = running_loss / index\n",
    "        sampeff_accs.append(cur_acc)\n",
    "        sampeff_f1s.append(f1)\n",
    "        print(\"Val accuracy: {} || Val F1: {}\".format(cur_acc, f1))\n",
    "        print(\"\\n\")"
   ]
  },
  {
   "cell_type": "code",
   "execution_count": 98,
   "metadata": {
    "tags": []
   },
   "outputs": [],
   "source": [
    "res_df = pd.DataFrame({'experiment':sampeff_experiment, 'accuracy':sampeff_accs, 'f1':sampeff_f1s,\n",
    "             'frac':sampeff_frac, 'run':sampeff_run})\n",
    "res_df.to_csv(\"sampleeff_metrics.csv\")"
   ]
  },
  {
   "cell_type": "code",
   "execution_count": 43,
   "metadata": {
    "tags": []
   },
   "outputs": [],
   "source": [
    "res_df = pd.read_csv(\"sampleeff_metrics.csv\")"
   ]
  },
  {
   "cell_type": "code",
   "execution_count": 44,
   "metadata": {
    "tags": []
   },
   "outputs": [],
   "source": [
    "res_df.frac = res_df.frac.astype(\"float\")"
   ]
  },
  {
   "cell_type": "code",
   "execution_count": 45,
   "metadata": {
    "tags": []
   },
   "outputs": [],
   "source": [
    "res_lr = pd.read_csv(\"sampleeff_LR_metrics.csv\")\n",
    "res_lr.frac_training_data = res_lr.frac_training_data.astype(\"float\")"
   ]
  },
  {
   "cell_type": "code",
   "execution_count": 122,
   "metadata": {
    "tags": []
   },
   "outputs": [
    {
     "data": {
      "text/plain": [
       "<AxesSubplot:xlabel='frac', ylabel='accuracy'>"
      ]
     },
     "execution_count": 122,
     "metadata": {},
     "output_type": "execute_result"
    },
    {
     "data": {
      "image/png": "[encoded data removed]",
      "text/plain": [
       "<Figure size 432x288 with 1 Axes>"
      ]
     },
     "metadata": {
      "needs_background": "light"
     },
     "output_type": "display_data"
    }
   ],
   "source": [
    "import seaborn as sns\n",
    "sns.lineplot(data=res_df, x=\"frac\", y=\"accuracy\")\n",
    "sns.lineplot(data=res_lr, x=\"frac_training_data\", y=\"test_acc\")"
   ]
  },
  {
   "cell_type": "code",
   "execution_count": 46,
   "metadata": {
    "tags": []
   },
   "outputs": [],
   "source": [
    "res_df['model'] = \"scBERT (reproduced)\"\n",
    "res_lr['model'] = \"Logistic Regression\""
   ]
  },
  {
   "cell_type": "code",
   "execution_count": 47,
   "metadata": {
    "tags": []
   },
   "outputs": [],
   "source": [
    "res_df = res_df.rename(columns={'frac':'fraction training data'})\n",
    "res_lr = res_lr.rename(columns={'frac_training_data':'fraction training data', 'test_acc':'accuracy', 'test_f1':'f1'})"
   ]
  },
  {
   "cell_type": "code",
   "execution_count": 48,
   "metadata": {
    "tags": []
   },
   "outputs": [],
   "source": [
    "all_res = pd.concat([res_df, res_lr], ignore_index=True)"
   ]
  },
  {
   "cell_type": "code",
   "execution_count": 49,
   "metadata": {
    "tags": []
   },
   "outputs": [],
   "source": [
    "def jitter(values):\n",
    "    return values + np.random.normal(0,0.01,values.shape)\n",
    "\n",
    "all_res['jit_x'] = jitter(all_res['fraction training data'])"
   ]
  },
  {
   "cell_type": "code",
   "execution_count": 48,
   "metadata": {
    "tags": []
   },
   "outputs": [
    {
     "data": {
      "image/png": "[encoded data removed]",
      "text/plain": [
       "<Figure size 1080x360 with 2 Axes>"
      ]
     },
     "metadata": {},
     "output_type": "display_data"
    }
   ],
   "source": [
    "import seaborn as sns\n",
    "sns.set(font_scale=1.3, style=\"ticks\")\n",
    "fig, axes = plt.subplots(1,2, figsize=[15,5])\n",
    "sns.scatterplot(data=all_res, x=\"jit_x\", y=\"accuracy\", hue=\"model\", ax=axes[0], edgecolor = None)#, alpha=0.75)\n",
    "sns.scatterplot(data=all_res, x=\"jit_x\", y=\"f1\", hue=\"model\", ax=axes[1], edgecolor = None)#, alpha=0.75)\n",
    "sns.despine()\n",
    "axes[0].set_xlabel(\"fraction training data\")\n",
    "axes[1].set_xlabel(\"fraction training data\")\n",
    "plt.setp(axes, xticks=[0.1, 0.25, 0.5, 0.75, 1.0], xticklabels = [0.1, 0.25, 0.5, 0.75, 1.0]);"
   ]
  },
  {
   "cell_type": "markdown",
   "metadata": {},
   "source": [
    "## add significance to plots"
   ]
  },
  {
   "cell_type": "code",
   "execution_count": 50,
   "metadata": {},
   "outputs": [
    {
     "name": "stdout",
     "output_type": "stream",
     "text": [
      "t-test for difference in accuracy with frac 0.1\n",
      "0.15426898790314383\n",
      "t-test for difference in accuracy with frac 0.25\n",
      "0.0011816016043699317\n",
      "t-test for difference in accuracy with frac 0.5\n",
      "0.0006112935825696751\n",
      "t-test for difference in accuracy with frac 0.75\n",
      "0.0011747708980759718\n",
      "\n",
      "\n",
      "t-test for difference in f1 with frac 0.1\n",
      "0.0965481500809156\n",
      "t-test for difference in f1 with frac 0.25\n",
      "0.002413144748773544\n",
      "t-test for difference in f1 with frac 0.5\n",
      "0.0012078988881343968\n",
      "t-test for difference in f1 with frac 0.75\n",
      "0.0011173331397206843\n"
     ]
    }
   ],
   "source": [
    "# calculate significance\n",
    "\n",
    "pvals = []\n",
    "p_xpos = []\n",
    "subplot_ind = []\n",
    "\n",
    "for f in [0.1, 0.25, 0.5, 0.75]:\n",
    "    print(f\"t-test for difference in accuracy with frac {f}\")\n",
    "    p=scipy.stats.ttest_ind(all_res[(all_res['fraction training data']==f) & (all_res.model==\"scBERT (reproduced)\")].accuracy, \n",
    "                                all_res[(all_res['fraction training data']==f) & (all_res.model==\"Logistic Regression\")].accuracy)[1]\n",
    "    print(p)\n",
    "    pvals.append(p)\n",
    "    p_xpos.append(f)\n",
    "    subplot_ind.append(0)\n",
    "\n",
    "print(\"\\n\")\n",
    "for f in [0.1, 0.25, 0.5, 0.75]:\n",
    "    print(f\"t-test for difference in f1 with frac {f}\")\n",
    "    p = scipy.stats.ttest_ind(all_res[(all_res['fraction training data']==f) & (all_res.model==\"scBERT (reproduced)\")].f1, \n",
    "                                all_res[(all_res['fraction training data']==f) & (all_res.model==\"Logistic Regression\")].f1)[1]\n",
    "    print(p)\n",
    "    pvals.append(p)\n",
    "    p_xpos.append(f)\n",
    "    subplot_ind.append(1)    \n"
   ]
  },
  {
   "cell_type": "code",
   "execution_count": 51,
   "metadata": {
    "tags": []
   },
   "outputs": [],
   "source": [
    "def convert_pvalue_to_asterisks(pvalue):\n",
    "    if np.isnan(pvalue):\n",
    "        return \"\"\n",
    "    elif pvalue <= 0.0001:\n",
    "        return \"****\"\n",
    "    elif pvalue <= 0.001:\n",
    "        return \"***\"\n",
    "    elif pvalue <= 0.01:\n",
    "        return \"**\"\n",
    "    elif pvalue <= 0.05:\n",
    "        return \"*\"\n",
    "    return \"ns\"\n",
    "\n",
    "pvals_stars = [convert_pvalue_to_asterisks(p) for p in pvals]"
   ]
  },
  {
   "cell_type": "code",
   "execution_count": 55,
   "metadata": {
    "tags": []
   },
   "outputs": [
    {
     "data": {
      "image/png": "[encoded data removed]",
      "text/plain": [
       "<Figure size 432x288 with 1 Axes>"
      ]
     },
     "metadata": {},
     "output_type": "display_data"
    }
   ],
   "source": [
    "import seaborn as sns\n",
    "sns.set(font_scale=1.3, style=\"ticks\")\n",
    "ax = sns.scatterplot(data=all_res, x=\"jit_x\", y=\"accuracy\", hue=\"model\", edgecolor = None)#, alpha=0.75)\n",
    "sns.despine()\n",
    "ax.set_xlabel(\"fraction training data\")\n",
    "ax.set_xticks([0.1, 0.25, 0.5, 0.75, 1.0])\n",
    "ax.set_xticklabels([0.1, 0.25, 0.5, 0.75, 1.0])\n",
    "\n",
    "for idx in np.arange(len(pvals_stars)):\n",
    "    if subplot_ind[idx]==0:\n",
    "        height=0.82\n",
    "    elif subplot_ind[idx]==1:\n",
    "        height=0.72\n",
    "        continue\n",
    "    ax.text(x=p_xpos[idx], y=height, s=pvals_stars[idx], fontsize=\"small\", ha=\"center\")\n",
    "\n"
   ]
  },
  {
   "cell_type": "code",
   "execution_count": 57,
   "metadata": {
    "tags": []
   },
   "outputs": [
    {
     "data": {
      "image/png": "[encoded data removed]",
      "text/plain": [
       "<Figure size 432x288 with 1 Axes>"
      ]
     },
     "metadata": {},
     "output_type": "display_data"
    }
   ],
   "source": [
    "import seaborn as sns\n",
    "sns.set(font_scale=1.3, style=\"ticks\")\n",
    "ax=sns.scatterplot(data=all_res, x=\"jit_x\", y=\"f1\", hue=\"model\", edgecolor = None)#, alpha=0.75)\n",
    "sns.despine()\n",
    "ax.set_xlabel(\"fraction training data\")\n",
    "ax.set_xticks([0.1, 0.25, 0.5, 0.75, 1.0])\n",
    "ax.set_xticklabels([0.1, 0.25, 0.5, 0.75, 1.0])\n",
    "\n",
    "for idx in np.arange(len(pvals_stars)):\n",
    "    if subplot_ind[idx]==0:\n",
    "        height=0.82\n",
    "        continue\n",
    "    elif subplot_ind[idx]==1:\n",
    "        height=0.72\n",
    "    ax.text(x=p_xpos[idx], y=height, s=pvals_stars[idx], fontsize=\"small\", ha=\"center\")\n",
    "\n"
   ]
  },
  {
   "cell_type": "code",
   "execution_count": 34,
   "metadata": {
    "tags": []
   },
   "outputs": [
    {
     "data": {
      "image/png": "[encoded data removed]",
      "text/plain": [
       "<Figure size 1080x360 with 2 Axes>"
      ]
     },
     "metadata": {},
     "output_type": "display_data"
    }
   ],
   "source": [
    "import seaborn as sns\n",
    "sns.set(font_scale=1.3, style=\"ticks\")\n",
    "fig, axes = plt.subplots(1,2, figsize=[15,5])\n",
    "sns.scatterplot(data=all_res, x=\"jit_x\", y=\"accuracy\", hue=\"model\", ax=axes[0], edgecolor = None)#, alpha=0.75)\n",
    "sns.scatterplot(data=all_res, x=\"jit_x\", y=\"f1\", hue=\"model\", ax=axes[1], edgecolor = None)#, alpha=0.75)\n",
    "sns.despine()\n",
    "axes[0].set_xlabel(\"fraction training data\")\n",
    "axes[1].set_xlabel(\"fraction training data\")\n",
    "plt.setp(axes, xticks=[0.1, 0.25, 0.5, 0.75, 1.0], xticklabels = [0.1, 0.25, 0.5, 0.75, 1.0]);\n",
    "\n",
    "for idx in np.arange(len(pvals_stars)):\n",
    "    if subplot_ind[idx]==0:\n",
    "        height=0.82\n",
    "    elif subplot_ind[idx]==1:\n",
    "        height=0.72\n",
    "    axes[subplot_ind[idx]].text(x=p_xpos[idx], y=height, s=pvals_stars[idx], fontsize=\"small\", ha=\"center\")\n",
    "\n"
   ]
  }
 ],
 "metadata": {
  "kernelspec": {
   "display_name": "rna-pretrain",
   "language": "python",
   "name": "rna-pretrain"
  },
  "language_info": {
   "codemirror_mode": {
    "name": "ipython",
    "version": 3
   },
   "file_extension": ".py",
   "mimetype": "text/x-python",
   "name": "python",
   "nbconvert_exporter": "python",
   "pygments_lexer": "ipython3",
   "version": "3.9.12"
  },
  "vscode": {
   "interpreter": {
    "hash": "ea531a0049080d5658e3e61cf7db54ce403b028279b105adc411fb7eae04af57"
   }
  }
 },
 "nbformat": 4,
 "nbformat_minor": 4
}
