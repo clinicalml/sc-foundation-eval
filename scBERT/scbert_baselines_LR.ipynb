{
 "cells": [
  {
   "cell_type": "code",
   "execution_count": 1,
   "metadata": {
    "tags": []
   },
   "outputs": [],
   "source": [
    "# -*- coding: utf-8 -*-\n",
    "import os\n",
    "import gc\n",
    "import argparse\n",
    "import json\n",
    "import random\n",
    "import math\n",
    "import random\n",
    "from functools import reduce\n",
    "import numpy as np\n",
    "import pandas as pd\n",
    "from scipy import sparse\n",
    "from sklearn.model_selection import train_test_split, ShuffleSplit, StratifiedShuffleSplit, StratifiedKFold, cross_validate\n",
    "from sklearn.metrics import accuracy_score, f1_score, confusion_matrix, precision_recall_fscore_support, classification_report\n",
    "import torch\n",
    "from torch import nn\n",
    "from torch.optim import Adam, SGD, AdamW\n",
    "from torch.nn import functional as F\n",
    "from torch.optim.lr_scheduler import StepLR, CosineAnnealingWarmRestarts, CyclicLR\n",
    "from torch.utils.data import DataLoader, Dataset\n",
    "from torch.utils.data.distributed import DistributedSampler\n",
    "from torch.nn.parallel import DistributedDataParallel as DDP\n",
    "import torch.distributed as dist\n",
    "from tqdm import tqdm\n",
    "\n",
    "from performer_pytorch import PerformerLM\n",
    "import scanpy as sc\n",
    "import anndata as ad\n",
    "from utils import *\n",
    "from datetime import datetime\n",
    "from time import time\n",
    "import torch.multiprocessing as mp\n",
    "from torch.nn.modules.utils import consume_prefix_in_state_dict_if_present\n",
    "from torch.utils.tensorboard import SummaryWriter\n",
    "\n",
    "from sklearn.linear_model import LogisticRegression\n",
    "import seaborn as sns"
   ]
  },
  {
   "cell_type": "code",
   "execution_count": 2,
   "metadata": {
    "tags": []
   },
   "outputs": [
    {
     "data": {
      "text/plain": [
       "AnnData object with n_obs × n_vars = 68450 × 16906\n",
       "    obs: 'TSNE.1', 'TSNE.2', 'celltype', 'n_genes'\n",
       "    uns: 'log1p'"
      ]
     },
     "execution_count": 2,
     "metadata": {},
     "output_type": "execute_result"
    }
   ],
   "source": [
    "#read Zheng data\n",
    "zheng_data = sc.read_h5ad(\"/data/rna_rep_learning/scBERT/Zheng68K.h5ad\")\n",
    "zheng_data"
   ]
  },
  {
   "cell_type": "code",
   "execution_count": 3,
   "metadata": {
    "tags": []
   },
   "outputs": [],
   "source": [
    "data = zheng_data.X\n",
    "label = zheng_data.obs.celltype"
   ]
  },
  {
   "cell_type": "code",
   "execution_count": 11,
   "metadata": {
    "tags": []
   },
   "outputs": [
    {
     "name": "stdout",
     "output_type": "stream",
     "text": [
      "frac 1.0, rep 0\n",
      "Loaded data...\n",
      "train set accuracy: 0.9461\n",
      "test set accuracy: 0.8117\n",
      "test set macro F1: 0.707\n",
      "\n",
      "\n",
      "frac 1.0, rep 1\n",
      "Loaded data...\n",
      "train set accuracy: 0.9461\n",
      "test set accuracy: 0.8116\n",
      "test set macro F1: 0.7072\n",
      "\n",
      "\n",
      "frac 1.0, rep 2\n",
      "Loaded data...\n",
      "train set accuracy: 0.946\n",
      "test set accuracy: 0.8116\n",
      "test set macro F1: 0.7071\n",
      "\n",
      "\n",
      "frac 1.0, rep 3\n",
      "Loaded data...\n",
      "train set accuracy: 0.9461\n",
      "test set accuracy: 0.8111\n",
      "test set macro F1: 0.7065\n",
      "\n",
      "\n",
      "frac 1.0, rep 4\n",
      "Loaded data...\n",
      "train set accuracy: 0.9461\n",
      "test set accuracy: 0.8112\n",
      "test set macro F1: 0.7068\n",
      "\n",
      "\n",
      "frac 1.0, rep 5\n",
      "Loaded data...\n",
      "train set accuracy: 0.9461\n",
      "test set accuracy: 0.8117\n",
      "test set macro F1: 0.7075\n",
      "\n",
      "\n",
      "frac 1.0, rep 6\n",
      "Loaded data...\n",
      "train set accuracy: 0.9461\n",
      "test set accuracy: 0.8115\n",
      "test set macro F1: 0.707\n",
      "\n",
      "\n",
      "frac 1.0, rep 7\n",
      "Loaded data...\n",
      "train set accuracy: 0.9461\n",
      "test set accuracy: 0.8119\n",
      "test set macro F1: 0.7074\n",
      "\n",
      "\n",
      "frac 1.0, rep 8\n",
      "Loaded data...\n",
      "train set accuracy: 0.9461\n",
      "test set accuracy: 0.8115\n",
      "test set macro F1: 0.7071\n",
      "\n",
      "\n",
      "frac 1.0, rep 9\n",
      "Loaded data...\n",
      "train set accuracy: 0.9461\n",
      "test set accuracy: 0.8112\n",
      "test set macro F1: 0.707\n",
      "\n",
      "\n"
     ]
    }
   ],
   "source": [
    "NREPS = 10\n",
    "SAMPLING_FRACS = [1.0]\n",
    "\n",
    "ks = []\n",
    "fracs = []\n",
    "cs=[]\n",
    "train_accs = []\n",
    "test_accs = []\n",
    "test_f1s = []\n",
    "for k in np.arange(NREPS):\n",
    "    for frac in SAMPLING_FRACS:\n",
    "        ks.append(k)\n",
    "        fracs.append(frac)\n",
    "        print(\"frac {}, rep {}\".format(frac, k))\n",
    "        #downsample training set\n",
    "        sss = StratifiedShuffleSplit(n_splits=1, test_size=0.2, random_state=2022) #update Aug 2023: hold train/val across all runs #same train/val set split for each frac in k\n",
    "        for index_train, index_val in sss.split(data, label):\n",
    "            np.random.seed(k)\n",
    "            index_train_small = np.random.choice(index_train, round(index_train.shape[0]*frac), replace=False)\n",
    "            X_train, y_train = data[index_train_small], label[index_train_small]\n",
    "            X_test, y_test = data[index_val], label[index_val]\n",
    "\n",
    "        print(\"Loaded data...\")\n",
    "\n",
    "        #train on train_dataset\n",
    "        \n",
    "        \"\"\" c=0.1 was always best, using going forward without always running tuning\n",
    "        #hyperparameter tune using k-fold val on training data\n",
    "        cv_results = {}\n",
    "        for c in [1e-3, 1e-2, 1e-1, 1]:\n",
    "            print(\"c={}\".format(c))\n",
    "            lr = LogisticRegression(random_state=0, penalty=\"l1\", C=c, solver=\"liblinear\")\n",
    "            res = cross_validate(lr, X_train, y_train, scoring=['accuracy'])\n",
    "            cv_results[c] = np.mean(res['test_accuracy'])\n",
    "        print(cv_results)\n",
    "\n",
    "        #choose best c and calc performance on val_dataset\n",
    "        best_ind = np.argmax(list(cv_results.values()))\n",
    "        c = list(cv_results.keys())[best_ind]\n",
    "        cs.append(c)\n",
    "        \"\"\"\n",
    "        c = 0.1\n",
    "        #print(\"best c={}\".format(c))\n",
    "        lr = LogisticRegression(penalty=\"l1\", C=c, solver=\"liblinear\") #random_state=0, \n",
    "        lr.fit(X_train, y_train)\n",
    "        train_acc = lr.score(X_train, y_train)\n",
    "        test_acc = lr.score(X_test, y_test)\n",
    "        print(\"train set accuracy: \" + str(np.around(train_acc, 4)))\n",
    "        print(\"test set accuracy: \" + str(np.around(test_acc, 4)))\n",
    "        val_macro_f1 = f1_score(y_test, lr.predict(X_test), average=\"macro\")\n",
    "        print(\"test set macro F1: \" + str(np.around(val_macro_f1, 4)))\n",
    "        train_accs.append(train_acc)\n",
    "        test_accs.append(test_acc)\n",
    "        test_f1s.append(val_macro_f1)\n",
    "        \n",
    "        print(\"\\n\")\n",
    "        \n"
   ]
  },
  {
   "cell_type": "markdown",
   "metadata": {},
   "source": [
    "## How does LR perform on \"hard\" cell types?"
   ]
  },
  {
   "cell_type": "code",
   "execution_count": 21,
   "metadata": {
    "tags": []
   },
   "outputs": [
    {
     "data": {
      "text/plain": [
       "LogisticRegression(C=0.1, penalty='l1', solver='liblinear')"
      ]
     },
     "execution_count": 21,
     "metadata": {},
     "output_type": "execute_result"
    }
   ],
   "source": [
    "sss = StratifiedShuffleSplit(n_splits=1, test_size=0.2, random_state=2022) #update Aug 2023: hold train/val across all runs #same train/val set split for each frac in k\n",
    "for index_train, index_val in sss.split(data, label):\n",
    "    X_train, y_train = data[index_train], label[index_train]\n",
    "    X_test, y_test = data[index_val], label[index_val]\n",
    "\n",
    "c = 0.1\n",
    "lr = LogisticRegression(penalty=\"l1\", C=c, solver=\"liblinear\") #random_state=0, \n",
    "lr.fit(X_train, y_train)"
   ]
  },
  {
   "cell_type": "code",
   "execution_count": 31,
   "metadata": {
    "tags": []
   },
   "outputs": [
    {
     "data": {
      "text/plain": [
       "0.8482620320855615"
      ]
     },
     "execution_count": 31,
     "metadata": {},
     "output_type": "execute_result"
    }
   ],
   "source": [
    "# val accuracy\n",
    "lr.score(X_test[y_test.isin(['CD8+ Cytotoxic T','CD8+/CD45RA+ Naive Cytotoxic']),:], y_test[y_test.isin(['CD8+ Cytotoxic T','CD8+/CD45RA+ Naive Cytotoxic'])])"
   ]
  },
  {
   "cell_type": "code",
   "execution_count": 27,
   "metadata": {
    "tags": []
   },
   "outputs": [
    {
     "data": {
      "text/plain": [
       "0.8275980602242234"
      ]
     },
     "execution_count": 27,
     "metadata": {},
     "output_type": "execute_result"
    }
   ],
   "source": [
    "#val F1\n",
    "f1_score(y_test, lr.predict(X_test), average='macro', labels=['CD8+ Cytotoxic T','CD8+/CD45RA+ Naive Cytotoxic'])"
   ]
  },
  {
   "cell_type": "markdown",
   "metadata": {},
   "source": [
    "## Sample efficiency"
   ]
  },
  {
   "cell_type": "code",
   "execution_count": 12,
   "metadata": {
    "tags": []
   },
   "outputs": [
    {
     "name": "stdout",
     "output_type": "stream",
     "text": [
      "frac 0.75, rep 0\n",
      "Loaded data...\n",
      "train set accuracy: 0.9527\n",
      "test set accuracy: 0.8012\n",
      "test set macro F1: 0.7028\n",
      "\n",
      "\n",
      "frac 0.5, rep 0\n",
      "Loaded data...\n",
      "train set accuracy: 0.9618\n",
      "test set accuracy: 0.7842\n",
      "test set macro F1: 0.6798\n",
      "\n",
      "\n",
      "frac 0.25, rep 0\n",
      "Loaded data...\n",
      "train set accuracy: 0.9743\n",
      "test set accuracy: 0.7515\n",
      "test set macro F1: 0.6433\n",
      "\n",
      "\n",
      "frac 0.1, rep 0\n",
      "Loaded data...\n",
      "train set accuracy: 0.977\n",
      "test set accuracy: 0.7164\n",
      "test set macro F1: 0.6092\n",
      "\n",
      "\n",
      "frac 0.75, rep 1\n",
      "Loaded data...\n",
      "train set accuracy: 0.9528\n",
      "test set accuracy: 0.7977\n",
      "test set macro F1: 0.6933\n",
      "\n",
      "\n",
      "frac 0.5, rep 1\n",
      "Loaded data...\n",
      "train set accuracy: 0.9593\n",
      "test set accuracy: 0.7791\n",
      "test set macro F1: 0.6669\n",
      "\n",
      "\n",
      "frac 0.25, rep 1\n",
      "Loaded data...\n",
      "train set accuracy: 0.9706\n",
      "test set accuracy: 0.7531\n",
      "test set macro F1: 0.6402\n",
      "\n",
      "\n",
      "frac 0.1, rep 1\n",
      "Loaded data...\n",
      "train set accuracy: 0.9788\n",
      "test set accuracy: 0.7188\n",
      "test set macro F1: 0.5995\n",
      "\n",
      "\n",
      "frac 0.75, rep 2\n",
      "Loaded data...\n",
      "train set accuracy: 0.9521\n",
      "test set accuracy: 0.7984\n",
      "test set macro F1: 0.6928\n",
      "\n",
      "\n",
      "frac 0.5, rep 2\n",
      "Loaded data...\n",
      "train set accuracy: 0.9617\n",
      "test set accuracy: 0.7768\n",
      "test set macro F1: 0.669\n",
      "\n",
      "\n",
      "frac 0.25, rep 2\n",
      "Loaded data...\n",
      "train set accuracy: 0.9734\n",
      "test set accuracy: 0.7509\n",
      "test set macro F1: 0.6383\n",
      "\n",
      "\n",
      "frac 0.1, rep 2\n",
      "Loaded data...\n",
      "train set accuracy: 0.9812\n",
      "test set accuracy: 0.7198\n",
      "test set macro F1: 0.602\n",
      "\n",
      "\n"
     ]
    }
   ],
   "source": [
    "#only run the sampling experiment 3 times\n",
    "NREPS = 3\n",
    "SAMPLING_FRACS = [0.75, 0.5, 0.25, 0.1]\n",
    "\n",
    "#ks = []\n",
    "#fracs = []\n",
    "#cs=[]\n",
    "#train_accs = []\n",
    "#test_accs = []\n",
    "#test_f1s = []\n",
    "for k in np.arange(NREPS): \n",
    "    for frac in SAMPLING_FRACS:\n",
    "        ks.append(k)\n",
    "        fracs.append(frac)\n",
    "        print(\"frac {}, rep {}\".format(frac, k))\n",
    "        #downsample training set\n",
    "        sss = StratifiedShuffleSplit(n_splits=1, test_size=0.2, random_state=2022) #update Aug 2023: hold train/val across all runs #same train/val set split for each frac in k\n",
    "        for index_train, index_val in sss.split(data, label):\n",
    "            np.random.seed(k)\n",
    "            index_train_small = np.random.choice(index_train, round(index_train.shape[0]*frac), replace=False)\n",
    "            X_train, y_train = data[index_train_small], label[index_train_small]\n",
    "            X_test, y_test = data[index_val], label[index_val]\n",
    "\n",
    "        print(\"Loaded data...\")\n",
    "\n",
    "        #train on train_dataset\n",
    "        \n",
    "        \"\"\" c=0.1 was always best, using going forward without always running tuning\n",
    "        #hyperparameter tune using k-fold val on training data\n",
    "        cv_results = {}\n",
    "        for c in [1e-3, 1e-2, 1e-1, 1]:\n",
    "            print(\"c={}\".format(c))\n",
    "            lr = LogisticRegression(random_state=0, penalty=\"l1\", C=c, solver=\"liblinear\")\n",
    "            res = cross_validate(lr, X_train, y_train, scoring=['accuracy'])\n",
    "            cv_results[c] = np.mean(res['test_accuracy'])\n",
    "        print(cv_results)\n",
    "\n",
    "        #choose best c and calc performance on val_dataset\n",
    "        best_ind = np.argmax(list(cv_results.values()))\n",
    "        c = list(cv_results.keys())[best_ind]\n",
    "        cs.append(c)\n",
    "        \"\"\"\n",
    "        c = 0.1\n",
    "        #print(\"best c={}\".format(c))\n",
    "        lr = LogisticRegression(penalty=\"l1\", C=c, solver=\"liblinear\") #random_state=0, \n",
    "        lr.fit(X_train, y_train)\n",
    "        train_acc = lr.score(X_train, y_train)\n",
    "        test_acc = lr.score(X_test, y_test)\n",
    "        print(\"train set accuracy: \" + str(np.around(train_acc, 4)))\n",
    "        print(\"test set accuracy: \" + str(np.around(test_acc, 4)))\n",
    "        val_macro_f1 = f1_score(y_test, lr.predict(X_test), average=\"macro\")\n",
    "        print(\"test set macro F1: \" + str(np.around(val_macro_f1, 4)))\n",
    "        train_accs.append(train_acc)\n",
    "        test_accs.append(test_acc)\n",
    "        test_f1s.append(val_macro_f1)\n",
    "        \n",
    "        print(\"\\n\")\n",
    "        \n"
   ]
  },
  {
   "cell_type": "code",
   "execution_count": 6,
   "metadata": {},
   "outputs": [
    {
     "name": "stdout",
     "output_type": "stream",
     "text": [
      "CD14+ Monocyte: 0.8982456140350877\n",
      "CD19+ B: 0.8382978723404255\n",
      "CD34+: 0.8125\n",
      "CD4+ T Helper2: 0.05\n",
      "CD4+/CD25 T Reg: 0.6814874696847211\n",
      "CD4+/CD45RA+/CD25- Naive T: 0.4732620320855615\n",
      "CD4+/CD45RO+ Memory: 0.4297385620915033\n",
      "CD56+ NK: 0.9264957264957265\n",
      "CD8+ Cytotoxic T: 0.8075162611418936\n",
      "CD8+/CD45RA+ Naive Cytotoxic: 0.8993691799339141\n",
      "Dendritic: 0.7613365155131265\n"
     ]
    }
   ],
   "source": [
    "#check accuracy per tissue class\n",
    "for ct in np.unique(zheng_data.obs.celltype):\n",
    "    print(ct+\": {}\".format(lr.score(X_test[y_test==ct], y_test[y_test==ct])))"
   ]
  },
  {
   "cell_type": "markdown",
   "metadata": {},
   "source": [
    "# Visualization"
   ]
  },
  {
   "cell_type": "code",
   "execution_count": 16,
   "metadata": {
    "tags": []
   },
   "outputs": [],
   "source": [
    "res_df = pd.DataFrame({'model': np.repeat('logistic regression', 22), 'k':ks, 'frac_training_data':fracs, 'test_acc':test_accs, 'test_f1':test_f1s})"
   ]
  },
  {
   "cell_type": "code",
   "execution_count": 17,
   "metadata": {
    "tags": []
   },
   "outputs": [],
   "source": [
    "res_df.to_csv(\"sampleeff_LR_metrics.csv\", index=False)"
   ]
  },
  {
   "cell_type": "code",
   "execution_count": 18,
   "metadata": {
    "tags": []
   },
   "outputs": [
    {
     "data": {
      "text/html": [
       "<div>\n",
       "<style scoped>\n",
       "    .dataframe tbody tr th:only-of-type {\n",
       "        vertical-align: middle;\n",
       "    }\n",
       "\n",
       "    .dataframe tbody tr th {\n",
       "        vertical-align: top;\n",
       "    }\n",
       "\n",
       "    .dataframe thead th {\n",
       "        text-align: right;\n",
       "    }\n",
       "</style>\n",
       "<table border=\"1\" class=\"dataframe\">\n",
       "  <thead>\n",
       "    <tr style=\"text-align: right;\">\n",
       "      <th></th>\n",
       "      <th>k</th>\n",
       "      <th>test_acc</th>\n",
       "      <th>test_f1</th>\n",
       "    </tr>\n",
       "    <tr>\n",
       "      <th>frac_training_data</th>\n",
       "      <th></th>\n",
       "      <th></th>\n",
       "      <th></th>\n",
       "    </tr>\n",
       "  </thead>\n",
       "  <tbody>\n",
       "    <tr>\n",
       "      <th>0.10</th>\n",
       "      <td>1.0</td>\n",
       "      <td>0.718359</td>\n",
       "      <td>0.603554</td>\n",
       "    </tr>\n",
       "    <tr>\n",
       "      <th>0.25</th>\n",
       "      <td>1.0</td>\n",
       "      <td>0.751838</td>\n",
       "      <td>0.640603</td>\n",
       "    </tr>\n",
       "    <tr>\n",
       "      <th>0.50</th>\n",
       "      <td>1.0</td>\n",
       "      <td>0.780034</td>\n",
       "      <td>0.671881</td>\n",
       "    </tr>\n",
       "    <tr>\n",
       "      <th>0.75</th>\n",
       "      <td>1.0</td>\n",
       "      <td>0.799099</td>\n",
       "      <td>0.696308</td>\n",
       "    </tr>\n",
       "    <tr>\n",
       "      <th>1.00</th>\n",
       "      <td>4.5</td>\n",
       "      <td>0.811519</td>\n",
       "      <td>0.707050</td>\n",
       "    </tr>\n",
       "  </tbody>\n",
       "</table>\n",
       "</div>"
      ],
      "text/plain": [
       "                      k  test_acc   test_f1\n",
       "frac_training_data                         \n",
       "0.10                1.0  0.718359  0.603554\n",
       "0.25                1.0  0.751838  0.640603\n",
       "0.50                1.0  0.780034  0.671881\n",
       "0.75                1.0  0.799099  0.696308\n",
       "1.00                4.5  0.811519  0.707050"
      ]
     },
     "execution_count": 18,
     "metadata": {},
     "output_type": "execute_result"
    }
   ],
   "source": [
    "res_df.groupby('frac_training_data').mean()"
   ]
  },
  {
   "cell_type": "code",
   "execution_count": 19,
   "metadata": {
    "tags": []
   },
   "outputs": [
    {
     "data": {
      "text/plain": [
       "<AxesSubplot:xlabel='frac_training_data', ylabel='test_acc'>"
      ]
     },
     "execution_count": 19,
     "metadata": {},
     "output_type": "execute_result"
    },
    {
     "data": {
      "image/png": "[encoded data removed]",
      "text/plain": [
       "<Figure size 432x288 with 1 Axes>"
      ]
     },
     "metadata": {
      "needs_background": "light"
     },
     "output_type": "display_data"
    }
   ],
   "source": [
    "sns.lineplot(data=res_df, x=\"frac_training_data\", y=\"test_acc\")#, hue=\"exp\")\n"
   ]
  }
 ],
 "metadata": {
  "kernelspec": {
   "display_name": "rna-pretrain",
   "language": "python",
   "name": "rna-pretrain"
  },
  "language_info": {
   "codemirror_mode": {
    "name": "ipython",
    "version": 3
   },
   "file_extension": ".py",
   "mimetype": "text/x-python",
   "name": "python",
   "nbconvert_exporter": "python",
   "pygments_lexer": "ipython3",
   "version": "3.9.12"
  },
  "vscode": {
   "interpreter": {
    "hash": "ea531a0049080d5658e3e61cf7db54ce403b028279b105adc411fb7eae04af57"
   }
  }
 },
 "nbformat": 4,
 "nbformat_minor": 4
}
